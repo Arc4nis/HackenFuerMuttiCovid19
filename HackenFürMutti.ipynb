{
 "cells": [
  {
   "cell_type": "code",
   "execution_count": 8,
   "metadata": {},
   "outputs": [],
   "source": [
    "import os\n",
    "\n",
    "fileList=os.listdir('./data/html/')"
   ]
  },
  {
   "cell_type": "code",
   "execution_count": 9,
   "metadata": {
    "scrolled": true
   },
   "outputs": [],
   "source": [
    "from bs4 import BeautifulSoup\n",
    "soups=[]\n",
    "for file in fileList:\n",
    "    with open(os.path.join('./data/html/',file)) as f:\n",
    "        \n",
    "        soup=BeautifulSoup(f.read())\n",
    "        soups.append(soup)"
   ]
  },
  {
   "cell_type": "code",
   "execution_count": 10,
   "metadata": {},
   "outputs": [
    {
     "name": "stdout",
     "output_type": "stream",
     "text": [
      "On 11 February, two evacuees from Wuhan tested positive after an earlier test returned negative results.[18] Another three cases were confirmed over the next two days, bringing the total count to 31.[19]\n",
      "\n"
     ]
    }
   ],
   "source": [
    "print((soups[0].find_all('p')[7]).text)"
   ]
  },
  {
   "cell_type": "code",
   "execution_count": 13,
   "metadata": {},
   "outputs": [
    {
     "ename": "OSError",
     "evalue": "[E050] Can't find model 'en_core_web_sm'. It doesn't seem to be a shortcut link, a Python package or a valid path to a data directory.",
     "output_type": "error",
     "traceback": [
      "\u001b[0;31m---------------------------------------------------------------------------\u001b[0m",
      "\u001b[0;31mOSError\u001b[0m                                   Traceback (most recent call last)",
      "\u001b[0;32m<ipython-input-13-14d257ed08ca>\u001b[0m in \u001b[0;36m<module>\u001b[0;34m\u001b[0m\n\u001b[1;32m      1\u001b[0m \u001b[0;32mimport\u001b[0m \u001b[0mspacy\u001b[0m\u001b[0;34m\u001b[0m\u001b[0;34m\u001b[0m\u001b[0m\n\u001b[0;32m----> 2\u001b[0;31m \u001b[0mnlp\u001b[0m \u001b[0;34m=\u001b[0m \u001b[0mspacy\u001b[0m\u001b[0;34m.\u001b[0m\u001b[0mload\u001b[0m\u001b[0;34m(\u001b[0m\u001b[0;34m\"en_core_web_sm\"\u001b[0m\u001b[0;34m)\u001b[0m\u001b[0;34m\u001b[0m\u001b[0;34m\u001b[0m\u001b[0m\n\u001b[0m",
      "\u001b[0;32m/usr/local/lib/python3.6/site-packages/spacy/__init__.py\u001b[0m in \u001b[0;36mload\u001b[0;34m(name, **overrides)\u001b[0m\n\u001b[1;32m     28\u001b[0m     \u001b[0;32mif\u001b[0m \u001b[0mdepr_path\u001b[0m \u001b[0;32mnot\u001b[0m \u001b[0;32min\u001b[0m \u001b[0;34m(\u001b[0m\u001b[0;32mTrue\u001b[0m\u001b[0;34m,\u001b[0m \u001b[0;32mFalse\u001b[0m\u001b[0;34m,\u001b[0m \u001b[0;32mNone\u001b[0m\u001b[0;34m)\u001b[0m\u001b[0;34m:\u001b[0m\u001b[0;34m\u001b[0m\u001b[0;34m\u001b[0m\u001b[0m\n\u001b[1;32m     29\u001b[0m         \u001b[0mdeprecation_warning\u001b[0m\u001b[0;34m(\u001b[0m\u001b[0mWarnings\u001b[0m\u001b[0;34m.\u001b[0m\u001b[0mW001\u001b[0m\u001b[0;34m.\u001b[0m\u001b[0mformat\u001b[0m\u001b[0;34m(\u001b[0m\u001b[0mpath\u001b[0m\u001b[0;34m=\u001b[0m\u001b[0mdepr_path\u001b[0m\u001b[0;34m)\u001b[0m\u001b[0;34m)\u001b[0m\u001b[0;34m\u001b[0m\u001b[0;34m\u001b[0m\u001b[0m\n\u001b[0;32m---> 30\u001b[0;31m     \u001b[0;32mreturn\u001b[0m \u001b[0mutil\u001b[0m\u001b[0;34m.\u001b[0m\u001b[0mload_model\u001b[0m\u001b[0;34m(\u001b[0m\u001b[0mname\u001b[0m\u001b[0;34m,\u001b[0m \u001b[0;34m**\u001b[0m\u001b[0moverrides\u001b[0m\u001b[0;34m)\u001b[0m\u001b[0;34m\u001b[0m\u001b[0;34m\u001b[0m\u001b[0m\n\u001b[0m\u001b[1;32m     31\u001b[0m \u001b[0;34m\u001b[0m\u001b[0m\n\u001b[1;32m     32\u001b[0m \u001b[0;34m\u001b[0m\u001b[0m\n",
      "\u001b[0;32m/usr/local/lib/python3.6/site-packages/spacy/util.py\u001b[0m in \u001b[0;36mload_model\u001b[0;34m(name, **overrides)\u001b[0m\n\u001b[1;32m    167\u001b[0m     \u001b[0;32melif\u001b[0m \u001b[0mhasattr\u001b[0m\u001b[0;34m(\u001b[0m\u001b[0mname\u001b[0m\u001b[0;34m,\u001b[0m \u001b[0;34m\"exists\"\u001b[0m\u001b[0;34m)\u001b[0m\u001b[0;34m:\u001b[0m  \u001b[0;31m# Path or Path-like to model data\u001b[0m\u001b[0;34m\u001b[0m\u001b[0;34m\u001b[0m\u001b[0m\n\u001b[1;32m    168\u001b[0m         \u001b[0;32mreturn\u001b[0m \u001b[0mload_model_from_path\u001b[0m\u001b[0;34m(\u001b[0m\u001b[0mname\u001b[0m\u001b[0;34m,\u001b[0m \u001b[0;34m**\u001b[0m\u001b[0moverrides\u001b[0m\u001b[0;34m)\u001b[0m\u001b[0;34m\u001b[0m\u001b[0;34m\u001b[0m\u001b[0m\n\u001b[0;32m--> 169\u001b[0;31m     \u001b[0;32mraise\u001b[0m \u001b[0mIOError\u001b[0m\u001b[0;34m(\u001b[0m\u001b[0mErrors\u001b[0m\u001b[0;34m.\u001b[0m\u001b[0mE050\u001b[0m\u001b[0;34m.\u001b[0m\u001b[0mformat\u001b[0m\u001b[0;34m(\u001b[0m\u001b[0mname\u001b[0m\u001b[0;34m=\u001b[0m\u001b[0mname\u001b[0m\u001b[0;34m)\u001b[0m\u001b[0;34m)\u001b[0m\u001b[0;34m\u001b[0m\u001b[0;34m\u001b[0m\u001b[0m\n\u001b[0m\u001b[1;32m    170\u001b[0m \u001b[0;34m\u001b[0m\u001b[0m\n\u001b[1;32m    171\u001b[0m \u001b[0;34m\u001b[0m\u001b[0m\n",
      "\u001b[0;31mOSError\u001b[0m: [E050] Can't find model 'en_core_web_sm'. It doesn't seem to be a shortcut link, a Python package or a valid path to a data directory."
     ]
    }
   ],
   "source": [
    "import spacy\n",
    "nlp = spacy.load(\"en_core_web_sm\")"
   ]
  },
  {
   "cell_type": "code",
   "execution_count": null,
   "metadata": {},
   "outputs": [],
   "source": [
    "docList=[]\n",
    "for p in soups[0].find_all('p'):\n",
    "    docList.append(nlp(p.text))"
   ]
  },
  {
   "cell_type": "code",
   "execution_count": 23,
   "metadata": {},
   "outputs": [],
   "source": [
    "doc=docList[3]"
   ]
  },
  {
   "cell_type": "code",
   "execution_count": 24,
   "metadata": {},
   "outputs": [
    {
     "data": {
      "text/plain": [
       "As of 18 March 2020, South Korea has about 8,400 cases and 84 deaths,[9] with over 200,000 people having been tested,[10][11] a case fatality rate of 1.0%, which is lower than the WHO's global case fatality rate of 3.4%.[12]"
      ]
     },
     "execution_count": 24,
     "metadata": {},
     "output_type": "execute_result"
    }
   ],
   "source": [
    "doc"
   ]
  },
  {
   "cell_type": "code",
   "execution_count": 15,
   "metadata": {},
   "outputs": [
    {
     "name": "stdout",
     "output_type": "stream",
     "text": [
      "\n",
      "\n",
      "The first confirmed case of the pandemic of coronavirus disease 2019 (COVID-19) in South Korea was announced on 20 January 2020.[1] On 19 February, the number of confirmed cases increased by 20 and on 20 February by 58[2] or 70,[3] giving a total of 346 confirmed cases on 21 February 2020, according to the Centers for Disease Control and Prevention Korea (KCDC), with the sudden jump mostly attributed to \"Patient 31\" who participated in a gathering at a Shincheonji Church of Jesus the Temple of the Tabernacle of the Testimony church in Daegu.[3][4]\n",
      "\n",
      "Amidst the fears of further contamination, mass gatherings in the affected cities were cancelled and a few hundred soldiers in Daegu are in isolation.[5][6] As of 4 Feb, South Korea denies entry to foreigners traveling from Hubei Province to help prevent the spread of COVID-19.[7][8]\n",
      "\n",
      "As of 18 March 2020, South Korea has about 8,400 cases and 84 deaths,[9] with over 200,000 people having been tested,[10][11] a case fatality rate of 1.0%, which is lower than the WHO's global case fatality rate of 3.4%.[12]\n",
      "\n",
      "South Korea introduced what was considered the largest and best-organised program in the world to screen the population for the virus, and isolate any infected people as well as tracing and quarantining those who contacted them.[13][14] The rapid and extensive measures taken by South Korea has been judged successful in limiting the spread of the outbreak despite not using the drastic measure of quarantining entire cities.[13][15][16]\n",
      "\n",
      "During the first four weeks, South Korea controlled the potential spread of COVID-19 by using high-tech resources like tracking the use of credit cards and checking CCTV footage of confirmed patients. However, since 18 February, the number of cases increased to more than 1,700 after discovery of the fact that patient No. 31 is a member of the Shincheonji Church of Jesus. It was difficult for KCDC to screen the patient because Shincheonji teaches that illness is sin. Many members were uncooperative with KCDC and could not be contacted.[17] About half of confirmed cases were linked to the Shincheonji Church as of 27 February; this was verified by health officials.[18] As of 10 March, the KCDC was able to contact and test most of the Shincheonji Church members, with the total number of tests nationally standing at around 200,000.\n",
      "\n",
      "On 20 January, the first confirmed case was identified as a 35-year-old Chinese woman. The first South Korean national to be infected occurred three days later was a 55-year-old man who worked in Wuhan and returned for a checkup with flu symptoms. The two infection reports were publicly released on 24 January.[1]\n",
      "\n",
      "On 26 January, a third case as a 54-year-old South Korean man. He had used a rental car and visited three restaurants, a hotel, a convenience store and met his family before admitting himself to hospital. All these places were disinfected. \n",
      "\n",
      "On 27 January, a fourth case was reported as a 55-year-old South Korean man who returned from Wuhan on 20 January. He first experienced flu symptoms on 21 January and suffered further complications four days later, eventually turning himself in. Both cases were tallied into formal records on 27 January.[19]\n",
      "\n",
      "On 1 February, an update on the first four patients indicated that the first three patients were showing weaker symptoms and recovering well while the fourth patient was getting treatment from pneumonia. Rumours circulated that the fourth patient had died which health authorities denied.[20]\n",
      "\n",
      "Two more confirmed cases were reported on 30 January with the fifth patient being a 32-year-old South Korean man who returned from his work at Wuhan on 24 January. The sixth patient was the first case in South Korea who had never visited Wuhan. The 56-year-old man caught the virus when visiting a restaurant with the third patient.[21]\n",
      "\n",
      "On 31 January, a seventh patient was reported as a 28-year-old South Korean man returning from Wuhan on 23 January. He developed symptoms on 26 January, and was admitted to the hospital on 28 January.[22] On the same day, four more patients were admitted into the record as the eighth patient, 62-year-old South Korean woman, returned from Wuhan. The ninth patient caught the virus from the fifth patient through direct contact while the tenth and the eleventh patient were the wife and child who were infected while visiting the sixth patient.[23]\n",
      "\n",
      "On 1 February, a 49-year-old Chinese national working in Japan as a tour guide was confirmed as the twelfth patient. He caught the virus while visiting a Japanese patient in Japan and entered South Korea through Gimpo International Airport on 19 January.[20] The KCDC confirmed an additional three cases on 2 February, bringing the total to fifteen.[24]\n",
      "\n",
      "A woman, who had returned from Thailand after a five-day vacation, was tested positive and confirmed as the sixteenth case on 4 February.[25] Three more cases were confirmed on 5 February, bringing the total case count to 19. The seventeenth and nineteenth patients had attended a conference in Singapore and been in contact with an infected individual there.[26] The very same day the KCDC announced that the second patient had been released from hospital after being tested negative in consecutive tests, becoming the country's first coronavirus patient to fully recover.[27]\n",
      "\n",
      "\n",
      "\n",
      "On 18 February, South Korea confirmed its 31st case in Daegu, a member of the Shincheonji religious organisation. The patient continued to go to gatherings of Shincheonji days after showing symptoms, which are typically held with people in very close proximity and include physical contact of the members. Many of the patient's close contacts would turn out to be infected, triggering a drastic escalation of the South Korean spread of confirmed cases of SARS-CoV-2 infection.[30][31]\n",
      "\n",
      "On 19 February, the number of confirmed cases increased by 20. On 20 February,  70[3] new cases were confirmed, giving a total of 104 confirmed cases, according to the KCDC. According to Reuters, KCDC attributed the sudden jump of 70 cases linked to \"Patient No. 31\", who had participated in a gathering in Daegu at the Shincheonji Church of Jesus the Temple of the Tabernacle of the Testimony.[3]\n",
      "\n",
      "On 20 February, the streets of Daegu were empty in reaction to the Shincheonji outbreak. A resident described the reaction, stating \"It's like someone dropped a bomb in the middle of the city. It looks like a zombie apocalypse.\"[3] The first death was reported[32] in a mental ward of Cheongdo Daenam Hospital in Cheongdo County. According to the mayor of Daegu, the number of suspected cases as of 21 February was 544 among 4,400 examined followers of the church.[33] The hospital was suspected as the source of the present outbreak after it was visited by a woman who became the second fatal case of South Korea on that day. Upon investigation, it was determined that the infection had spread to that hospital through a funeral ceremony attended by members of the church.[34][35]\n",
      "\n",
      "All South Korean military bases were on lockdown after tests confirmed three soldiers to be positive for the virus.[34] Airlines cut connections and cultural schedules were being canceled due to fears of further spread.[36][37] United States Forces Korea  raised the alert level from low to moderate and  cut off non-essential travel to and from USFK Daegu.[38] USFK Daegu's school facilities were closed and non-essential personnel were ordered to stay at home while any visitors going there were not allowed to enter.[38] USFK announced that the widow of a retired soldier who was in Daegu was diagnosed to be positive for the virus on 24 February.[39] Camp Humphreys enacted virus detection protocols, including temperature checks and raised the alert level to high.[40] On 26 February, an American soldier based at Camp Carroll was diagnosed to be positive and was quarantined away from bases via off-base housing unit[41] with contact tracing done that showed his movements to Camp Walker.[42]\n",
      "\n",
      "As of 22 February, among 9,336 followers of the church, 1,261 reported symptoms.[43] At the time, 169 confirmed cases involved the same church and another 111 came from the Cheongdo Daenam Hospital.[44] 23 February saw another 123 cases with 75 being from Shincheonji[45] and 24 February saw 161 additional cases with 129 being from the same religious group. Over 27,000 people have been tested for the virus with 19,127 negative results.[46]\n",
      "\n",
      "On 24 February, 15 countries imposed travel restrictions to and from South Korea.[47] It was also reported that a senior health official overseeing the COVID-19 efforts in Daegu tested positive and was also a member of Shincheonji.[48][49] Within a few days, a petition to the nation's president urging for the disbandment of the church had over 750,000 signatures. Their headquarters in Gwacheon was raided by law enforcement and government officials said all 245,000 members of the religious group would be found and tested.[49]\n",
      "\n",
      "On 28 February, over 2,000 confirmed cases were reported.[50] On 2 March, there were over 4,200 confirmed cases.[51] With an additional 4,000 cases of COVID-19 within two weeks, and roughly 60% of the total infections nationwide having stemmed from the church, the Seoul city government asked prosecutors to press charges against the religious group's founder and senior members for murder, causing harm, and for violating the Infectious Disease and Control Act.[52] Interviews have occurred with all 230,000 members of the religious group and nearly 9,000 were said to be showing symptoms of the virus.[53] Due to the number of infections in the country, ninety-five countries have banned or limited entry for South Korean passport holders.[54] Testing is also conducted at drive-through testing sites where patients do not leave their vehicles, but are met by medical personnel in hazmat suits over several stations. The process is completed in a few minutes and results come in several days.[55]\n",
      "On 8 March, KCDC in South Korea announced that 79.4% of confirmed COVID-19 cases were related to group infection. KCDC also announced that outbreak associated with Shincheonji Church totaled 4,482 infections, accounting for 62.8% of the total confirmed cases.[56][57]\n",
      "\n",
      "March 13 was the first time since the outbreak on January 20 in which the number of recoveries, 177, was larger than the number of those who newly tested positive, 110. Korean news sites are using the stock trading term \"golden cross\" (골든크로스) to refer to this.[58][59][60] On 17 March, around 79 church devotees were infected with the virus after attending the River of Grace Community Church. The infections were claimed to have been caused by spraying salt-water into followers' mouths, under the belief that this would protect them from the virus.[61][62]\n",
      "\n",
      "\n",
      "\n",
      "\n",
      "\n",
      "\n",
      "\n",
      "\n",
      "\n",
      "\n",
      "\n",
      "The sum for a single region may not match its total because the daily numbers are based on the locations of report; a case may change its classification after epidemiological investigation.\n",
      "\n",
      "Numbers in parentheses denote new deaths among the region's all confirmed cases.\n",
      "\n",
      "As of 18 March, South Korea's KOSPI stock index has dropped nearly 30% compared to a month ago. The drop precipitated on 23 February, when the country raised the coronavirus alert to 'highest level'.[150] As of 15 March, the KOSPI closed at 1,771.44 and the Kosdaq finished at 524 points, down 7%, prompting the Financial Supervisory Commission to impose a six-month ban on short-selling, the first such drastic action in nearly nine years. This was despite a markedly lower daily increase in cases. Automaker Hyundai Motor Company, having shut down its factories as the outbreak intensified, saw exports drop 21.4% in February from the same month last year.[151]\n",
      "\n",
      "As of 25 February, Daegu officials were aggressively warning residents to take precautions, while allowing private businesses such as restaurants to stay open. All Daegu’s public libraries, museums, ​churches, ​day-care centers and courts had been closed.[152][needs update]\n",
      "\n",
      "Apart from the city of Daegu and the church community involved, most of South Korea is operating close to normality, although nine planned festivals have been closed and tax-free retailers are closing.[153] The South Korean military manpower agency made an announcement that conscription from Daegu will temporarily be suspended.[154] The Daegu Office of Education decided to postpone the start of every school in the region by one week.[155]\n",
      "\n",
      "Numerous educational institutes have temporarily shut down, including dozens of kindergartens in Daegu and several elementary schools in Seoul.[156] As of 18 February, most universities in South Korea had announced plans to postpone the start of the spring semester. This included 155 universities planning to delay the semester start by two weeks to 16 March, and 22 universities planning to delay the semester start by one week to 9 March.[157] Also, on 23 February 2020, all kindergartens, elementary schools, middle schools, and high schools were announced to delay the semester start from 2 March to 9 March.[158][needs update]\n",
      "\n",
      "The economy of South Korea is forecast to grow 1.9%, which is down from 2.1%. The government has provided 136.7 billion won for local governments as support.[153] The government has also organized the procurement of masks and other hygiene equipment.[153]\n",
      "\n",
      "Entertainment agency SM Entertainment reportedly donated five hundred million won in efforts to fight the disease.[159][160][161]\n",
      "\n",
      "In the K-POP industry, the rapid spread of the coronavirus within South Korea has led to the cancellations or postponing of concerts and other events for K-POP acts within and outside of South Korea, with example situations including the cancellation of the remaining Asia dates and the Europe leg for Seventeen’s Ode To You Tour on 9 February 2020 and the cancellation of all Seoul dates for BTS' Map of the Soul Tour.[162][163]\n",
      "\n",
      "As of 20 March, a total of 171 countries and territories have issued entry bans and/or suspended visas for travelers from South Korea.[164]\n",
      "\n",
      "The Blue House announced on February 28 the current status of coronavirus tests in Korea, comparing the testing situation in the United States and Japan. The number of inspections was 26 or 120 times higher than in other countries as of 28 Feb. The cumulative number of inspections was about 53,000 by South Korea, while Japan was about 2,000, and in US about 440 cases were examined.[165]\n",
      "\n",
      "On 20 February, one of the public reports by the South Korean government was titled \"Pan-Governmental Special Aid Committee is assembled to handle Coronavirus 19 in Daegu\" which can be also parsed as \"...assembled to handle Daegu Coronavirus 19.\"  After concerns were raised about potentially enabling discrimination, the government apologized on 22 February for using misleading expression and corrected the incorrect expression.[166]\n",
      "\n",
      "On 26 January, the Korean Medical Association (KMA) asked the government to temporarily bar entry to all travelers arriving from mainland China. [167] On 27 January, KMA President Choi Dae-zip said: \"The third confirmed case indicates that we have reached the point where we have to get rid of passive stance and actively prepare for the worsening of the situation,  (and) the government should thoroughly monitor the trend of China's national outbreak of the virus and prepare administrative measures such as complete entry ban from China in case of the worst situation.\"[168] On 3 February, The KMA recommended halting all travel from China, rather than only from Hubei province.[169] After all, The KMA called for stronger government response in a total of six statements between 20 January, when the nation’s first confirmed case occurred, and 18 February. A short time after that, cases spiked in Daegu and throughout the country. [170]\n",
      "\n",
      "Although there are many confirmed cases of COVID-19, President Moon Jae-in's approval rating rose by 2 percentage points to 44%. During the MERS crisis, the previous President Park Geun-hye's approval rating had fallen sharply to 29% due to inadequate management the MERS infection.[171]\n",
      "\n",
      "In opinion poll conducted by Gallup Korea in the second week of March 2020, president Moon's approval rating has rose by 5% to 49%.[172]\n",
      "\n",
      "There are two controversial petitions on the official Presidential Blue House website: one is for supporting President Moon for his handling of the coronavirus outbreak and another is for disapproval of President Moon's management of the coronavirus outbreak. The petitions of disapproval was completed by 1.46 million votes, and another petition of supporting President Moon reached more than 1.3 million votes, and it is planned to be completed by 27 March 2020.[173][174]\n",
      "\n",
      "In February 2020, an entrance to a South Korean restaurant in downtown Seoul reportedly had a sign in red Chinese characters stating: \"No Chinese Allowed.\"[175] \"No Chinese\" signs have been cropping up throughout the country, and some businesses are simply banning all foreigners.[176] Some foreign residents have been excluded from the government mask distribution program as it is currently only allowed to 1.25 million foreigners who were subscribed to the public health insurance.  There is a shortage of face masks in S.Korea.[177] Concerning COVID-19, More than 760,000 South Korean citizens have signed a petition lobbying the government to ban Chinese tourists from entering the country.[178][179] The Daegu Lantern Festival mistakenly posted a notice in English that no foreigners are allowed to visit.  However, the wrong sentence was removed and it was revealed a translation error by the  PR agency regarding statement from a Daegu government official. The official in the Daegu city stated that the original message was the notification to foreign tourists about the delayed schedule of festival over COVID-19 concerns.[180]\n",
      "\n",
      "On 24 February, the United States Centers for Disease Control and Prevention (CDC) upgraded the status of South Korea to level 3 (avoid non-essential travels due to widespread community transmission).[181]\n",
      "\n",
      "On 28 February, Charles Schwab Corporation advised employees who had travelled to China and South Korea to self-quarantine for 14 days.[182] Multiple companies such as Amazon, Google, TD Bank Group, Bank of Nova Scotia, London Stock Exchange Group, and Cargill, Inc. deferred all non-essential travels to areas affected by the outbreak.[183]\n",
      "\n",
      "As of 8 March, US military has suspended all travels to and from South Korea for all military personnel and their family over the concern of the virus.[184]\n",
      "\n",
      "As of 10 March, 109 countries or regions restrict entry of visitors from South Korea.[185] CNN  had an interview with South Korea health minister Park Neung-hoo. Park expressed cautiously his desire  that the coronavirus outbreak is 'passed the peak' as per the result regarding the number of new daily infections has declined in recent days.[186]  The S. Korean government has the ability operate about 15,000 diagnostic test per day and has conducted over 190,000 tests by 10 March nationwide. Park also answered the inquiry from CNN about practicable tips for controlling COVID-19. Park believes that dealing with outbreaks by focusing efforts on early testing and global cooperation would be crucial instead of the lockdown option, as the virus could still spread quickly without testing.[186] S. Korean authorities have arranged the two types of facilities, one for about 10% of coronavirus patients who required hospitalization and another for  the patients who were only suffering from mild symptoms.[186]\n",
      "\n",
      "Time magazine and BBC News concluded that the reason for the high number of confirmed cases of the coronavirus in South Korea is thanks to the relative \"openness\" and \"transparency\" in the Korean society.[187] As for the rapid spread of the virus, the reason was the religious group Shincheonji Church.[188] The Blue House announced on 28 February the current status of coronavirus tests in three countries: Korea, the United States, and Japan, and analyzed statistically the reasons why there were so many confirmed cases in South Korea: the number of inspections was 26 or 120 times higher than other countries. The cumulative number of inspections was about 53,000 in South Korea, with only 2,000 in Japan and 440 cases examined in the United States. After the tests, the rate of confirmed cases was highest in Japan (9.04%), followed by Korea (3.3%) and the United States (3.15%).[165]\n",
      "\n",
      "ZDF, a major public broadcaster in Germany, assessed that Korea's COVID-19 management, conducting massive inspections daily, is the fastest but hardest way to transparently disclose the confirmed COVID-19 cases.[189] It was now emphasized that it would be necessary to conduct an aggressive test similar to South Korea for COVID-19. Public German broadcaster ARD praised the efficiency of the testing methods developed by South Korea, such as the drive-through COVID-19 screening.[190] Since March 8, Germany has been operating drive-through inspection stations in North Rhine-Westphalia and Hesse, where the number of infected people is increasing. Drive-through inspection stations were also installed in several places in the UK two weeks ago[when?]. Germany has a medical infrastructure capable of testing 16,000 people per day.[191][192][193][194]\n",
      "\n",
      "Bloomberg L.P. analyzed the reason for the low death rate in South Korea. South Korea experienced serious difficulties during the outbreak of MERS in 2015 due to a lack of test kits. Afterwards,  the country approved rapid deployment of COVID-19 test kits, and now they are able to test more than 10,000 people a day. In neighboring Japan, only about 2,700 people in total have been tested for COVID-19 as of March 3. Officials in Seoul operate \"drive-thru\" testing stations for quick testing.  Diagnostics company Seegene Inc. is also exporting its test kits to other countries including China, Europe and the USA.[195][196]\n",
      "\n",
      "AFP attributed the factors behind the low death rate of South Korea to the rigorous testing and the infected population profile. South Korea's widespread testing leads mild or asymptomatic cases to be identified so the proportion of dying goes down. Moreover the infected population in the South Korea has a unique profile. Most of the country's infections are linked to the Shincheonji Church of Jesus and most of its members are young women. Statistics show that the virus is most deadly among older generations and men. So the death rate in South Korea is lower than other countries.[197]\n",
      "\n",
      "CNN reported the innovative drive-through testing for COVID-19 in the northern city of Goyang, which was inspired by the drive-through counters at Starbucks.[198]\n",
      "Reuters detailed the new testing facilities in South Korea. Several drive-through coronavirus screening centres were built, including roadside testing facilities. Their purpose is to diagnose patients quickly, while preventing the infection of others in, e.g., a hospital waiting room or a community health center. The entire testing procedure takes several minutes.[199]\n",
      "William Schaffner, a professor of preventive medicine and infectious diseases at Vanderbilt University School of Medicine, stressed the importance of the broad testing efforts in South Korea. It would provide us with an unclouded picture of the COVID-19 illness.[200] Victoria’s Chief Health Officer, Brett Sutton has recommended the drive-thru coronavirus testing in Australia.[201] on March 10, Australia opened the first drive-through testing station in Adelaide. \n",
      "[202][202]\n",
      "\n",
      "Business Insider analyzed the difference of coverage of patient testing patients for COVID-19, comparing the USA to South Korea. Per million citizens, South Korea tested 700 times more than the USA.[203] Fortune explained South Korea's efforts of setting up several \"drive-thru\" coronavirus screening facilities as contributing to testing thousands of samples a day.[204]\n",
      "\n",
      "The Washington Post has praised the South Korean government's handling of coronavirus outbreak and stated that South Korea is a model for the U.S. response instead of Iran.[205] The Washington Post also appreciated South Korea's response as a successful model for democratic countries.[206]\n",
      "\n",
      "Agence France-Presse has compared South Korea's handling of coronavirus outbreak with China. The newspaper stated that \"While China locked down cities, Seoul embraced widespread testing and public notice of movements of those infected, raising some privacy concerns\". Also, AFP analyzed that the South Korean government handled the crisis using a model of open information, public participation, and widespread testing.[207] Additionally, according to the paper, Masahiro Kami, a chairperson of the Tokyo-based Medical Governance Research Institute stated that South Korea is a good model for every country for handling the coronavirus outbreak.[208]\n",
      "\n",
      "WSJ analyzed the aggressive Coronavirus Test Program in S.Korea. The government contacted the citizens proactively to test the coronavirus in various ways including a home visit, a quick 10 minutes drop off drive-through COVID-19 testing center free of charge. Although S.Korea not yet defeated the outbreak, experts credit the emphasis on energetic COVID-19 test program with reducing case numbers and fatalities.[209][210]\n",
      "\n",
      "UPI has analyzed that South Korea's model has worked on handling coronavirus outbreak without any further harder restrictions on foreigners.[211] The paper also observed that Health authorities have aggressively promoted hygiene and social distancing.[212] Additionally, according to the paper Kim Jong-hwan, an administrator at Seoul Metropolitan Eosunpyeong Hospital positively evaluated the government's deal with coronavirus outbreak by stating that \"The government's response has been so well-organized. I'm proud of it.\"[213]\n",
      "\n",
      " Media related to 2019–20 COVID-19 pandemic in South Korea at Wikimedia Commons\n",
      "\n"
     ]
    }
   ],
   "source": [
    "for doc in docList:\n",
    "    print(doc)"
   ]
  },
  {
   "cell_type": "markdown",
   "metadata": {},
   "source": [
    "Die Entity-Recognition von Spacy funktioniert schlecht:"
   ]
  },
  {
   "cell_type": "code",
   "execution_count": 16,
   "metadata": {},
   "outputs": [
    {
     "name": "stdout",
     "output_type": "stream",
     "text": [
      "  \n",
      "Media \n",
      "related \n",
      "to \n",
      "2019–20 \n",
      "COVID-19 \n",
      "pandemic \n",
      "in \n",
      "South GPE\n",
      "Korea GPE\n",
      "at \n",
      "Wikimedia ORG\n",
      "Commons ORG\n",
      "\n",
      " \n"
     ]
    }
   ],
   "source": [
    "for token in doc:\n",
    "    if token.ent_type_ != None:\n",
    "        print(token,token.ent_type_)"
   ]
  },
  {
   "cell_type": "code",
   "execution_count": 9,
   "metadata": {},
   "outputs": [],
   "source": [
    "from spacy.matcher import PhraseMatcher\n",
    "matcher = PhraseMatcher(nlp.vocab)"
   ]
  },
  {
   "cell_type": "code",
   "execution_count": 33,
   "metadata": {},
   "outputs": [],
   "source": [
    "from spacy.matcher import Matcher\n",
    "\n",
    "matcher = Matcher(nlp.vocab)\n",
    "\n",
    "pattern = [ {\"IS_DIGIT\":True},{\"TEXT\": \"January\"}]\n",
    "pattern2 = [ {\"IS_DIGIT\":True},{\"TEXT\": \"February\"}]\n",
    "pattern3 = [ {\"IS_DIGIT\":True},{\"TEXT\": \"March\"}]\n",
    "\n",
    "matcher.add(\"JAN\", None, pattern)\n",
    "matcher.add(\"FEB\", None, pattern2)\n",
    "matcher.add(\"MARCH\", None, pattern3)"
   ]
  },
  {
   "cell_type": "code",
   "execution_count": 28,
   "metadata": {},
   "outputs": [
    {
     "name": "stdout",
     "output_type": "stream",
     "text": [
      "Matches: ['18 March']\n"
     ]
    }
   ],
   "source": [
    "matches = matcher(doc)\n",
    "print(\"Matches:\", [doc[start:end].text for match_id, start, end in matches])"
   ]
  },
  {
   "cell_type": "code",
   "execution_count": 34,
   "metadata": {},
   "outputs": [
    {
     "name": "stdout",
     "output_type": "stream",
     "text": [
      "Matches: []\n",
      "Matches: ['20 January', '19 February', '20 February', '21 February']\n",
      "Matches: []\n",
      "Matches: ['18 March']\n",
      "Matches: []\n",
      "Matches: ['18 February', '27 February', '10 March']\n",
      "Matches: ['20 January']\n",
      "Matches: ['26 January']\n",
      "Matches: ['27 January', '20 January', '21 January']\n",
      "Matches: ['1 February']\n",
      "Matches: ['30 January', '24 January']\n",
      "Matches: ['31 January', '23 January', '26 January']\n",
      "Matches: ['1 February', '2 February']\n",
      "Matches: ['5 February']\n",
      "Matches: []\n",
      "Matches: ['18 February']\n",
      "Matches: ['19 February', '20 February']\n",
      "Matches: ['20 February', '21 February']\n",
      "Matches: ['26 February']\n",
      "Matches: ['22 February', '23 February', '24 February']\n",
      "Matches: ['24 February']\n",
      "Matches: ['28 February', '2 March', '8 March']\n",
      "Matches: ['17 March']\n",
      "Matches: []\n",
      "Matches: []\n",
      "Matches: []\n",
      "Matches: []\n",
      "Matches: []\n",
      "Matches: []\n",
      "Matches: []\n",
      "Matches: []\n",
      "Matches: []\n",
      "Matches: []\n",
      "Matches: []\n",
      "Matches: ['18 March', '23 February', '15 March']\n",
      "Matches: ['25 February']\n",
      "Matches: []\n",
      "Matches: ['18 February', '16 March', '23 February', '2 March']\n",
      "Matches: []\n",
      "Matches: []\n",
      "Matches: ['9 February']\n",
      "Matches: ['20 March']\n",
      "Matches: []\n",
      "Matches: ['20 February', '22 February']\n",
      "Matches: ['26 January', '27 January', '3 February', '20 January', '18 February']\n",
      "Matches: []\n",
      "Matches: []\n",
      "Matches: ['27 March']\n",
      "Matches: []\n",
      "Matches: ['24 February']\n",
      "Matches: ['28 February']\n",
      "Matches: ['8 March']\n",
      "Matches: ['10 March', '10 March']\n",
      "Matches: ['28 February']\n",
      "Matches: []\n",
      "Matches: []\n",
      "Matches: []\n",
      "Matches: []\n",
      "Matches: []\n",
      "Matches: []\n",
      "Matches: []\n",
      "Matches: []\n",
      "Matches: []\n",
      "Matches: []\n"
     ]
    }
   ],
   "source": [
    "for doc in docList:\n",
    "    matches = matcher(doc)\n",
    "    print(\"Matches:\", [doc[start:end].text for match_id, start, end in matches])"
   ]
  },
  {
   "cell_type": "code",
   "execution_count": null,
   "metadata": {},
   "outputs": [],
   "source": []
  }
 ],
 "metadata": {
  "kernelspec": {
   "display_name": "Python 3",
   "language": "python",
   "name": "python3"
  },
  "language_info": {
   "codemirror_mode": {
    "name": "ipython",
    "version": 3
   },
   "file_extension": ".py",
   "mimetype": "text/x-python",
   "name": "python",
   "nbconvert_exporter": "python",
   "pygments_lexer": "ipython3",
   "version": "3.6.9"
  }
 },
 "nbformat": 4,
 "nbformat_minor": 4
}
