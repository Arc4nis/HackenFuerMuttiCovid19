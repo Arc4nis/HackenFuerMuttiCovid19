{
 "cells": [
  {
   "cell_type": "markdown",
   "metadata": {},
   "source": [
    "# HTML Files with BeautifulSoup"
   ]
  },
  {
   "cell_type": "code",
   "execution_count": null,
   "metadata": {},
   "outputs": [],
   "source": [
    "import requests\n",
    "from bs4 import BeautifulSoup\n",
    "\n",
    "soups=[]\n",
    "online_articles_aquired=True\n",
    "\n",
    "country_names = [\n",
    "                 'Japan', \n",
    "                 'Italy', \n",
    "                 'South Africa', \n",
    "                 'United States', \n",
    "                 'Iran', \n",
    "                 'South Korea', \n",
    "                 'Spain', \n",
    "                 'France',\n",
    "                 'Portugal',\n",
    "                 'Singapore',\n",
    "                 'China',   \n",
    "                 'United Kingdom',\n",
    "                 'Germany'\n",
    "                ]\n",
    "\n",
    "\n",
    "for country_name in country_names:\n",
    "    article_html = requests.get('https://en.wikipedia.org/wiki/2020_coronavirus_pandemic_in_' + country_name)\n",
    "    if article_html is None:\n",
    "        online_articles_aquired=False\n",
    "        print(\"Failed to download wikipedia entry for country: \" + country_name)\n",
    "    else:\n",
    "        soups.append(BeautifulSoup(article_html.text, 'html.parser'))\n",
    "if online_articles_aquired:\n",
    "    print(\"scrapped all wikipedia articles\")"
   ]
  },
  {
   "cell_type": "code",
   "execution_count": 3,
   "metadata": {
    "scrolled": true
   },
   "outputs": [],
   "source": [
    "import os\n",
    "if not online_articles_aquired:\n",
    "    fileList=os.listdir('./data/html/')\n",
    "    soups=[]\n",
    "    for file in fileList:\n",
    "        with open(os.path.join('./data/html/',file)) as f:\n",
    "\n",
    "            soup=BeautifulSoup(f.read())\n",
    "            soups.append(soup)"
   ]
  },
  {
   "cell_type": "code",
   "execution_count": 4,
   "metadata": {},
   "outputs": [
    {
     "name": "stdout",
     "output_type": "stream",
     "text": [
      "['2020 coronavirus pandemic in Japan - Wikipedia.html', '2020 coronavirus pandemic in South Africa - Wikipedia.html', '2020 coronavirus pandemic in the United States - Wikipedia.html', '2020 coronavirus pandemic in Italy - Wikipedia.html', '2020 coronavirus pandemic in Iran - Wikipedia.html', '2020 coronavirus pandemic in South Korea - Wikipedia.html', '2020 coronavirus pandemic in Spain - Wikipedia.html', '2020 coronavirus pandemic in the United Kingdom - Wikipedia.html']\n"
     ]
    }
   ],
   "source": [
    "if online_articles_aquired:\n",
    "    print(country_names)\n",
    "else:\n",
    "    print(fileList)"
   ]
  },
  {
   "cell_type": "markdown",
   "metadata": {},
   "source": [
    "How to find relevant text inside <\"p\"> elements"
   ]
  },
  {
   "cell_type": "code",
   "execution_count": 5,
   "metadata": {},
   "outputs": [
    {
     "name": "stdout",
     "output_type": "stream",
     "text": [
      "On 11 February, two evacuees from Wuhan tested positive after an earlier test returned negative results.[18] Another three cases were confirmed over the next two days, bringing the total count to 31.[19]\n",
      "\n"
     ]
    }
   ],
   "source": [
    "print((soups[0].find_all('p')[7]).text)"
   ]
  },
  {
   "cell_type": "markdown",
   "metadata": {},
   "source": [
    "# Spacy for Natural Language Processing"
   ]
  },
  {
   "cell_type": "code",
   "execution_count": 6,
   "metadata": {},
   "outputs": [],
   "source": [
    "import spacy\n",
    "nlp = spacy.load(\"en_core_web_sm\")"
   ]
  },
  {
   "cell_type": "code",
   "execution_count": 7,
   "metadata": {},
   "outputs": [],
   "source": [
    "#all docs for italy soup\n",
    "docList=[]\n",
    "for p in soups[4].find_all('p'):\n",
    "    docList.append(nlp(p.text))"
   ]
  },
  {
   "cell_type": "code",
   "execution_count": 8,
   "metadata": {},
   "outputs": [],
   "source": [
    "#create single doc for test purpose\n",
    "doc=docList[3]"
   ]
  },
  {
   "cell_type": "markdown",
   "metadata": {},
   "source": [
    "Print of all paragraph inside the html, skip if boring"
   ]
  },
  {
   "cell_type": "code",
   "execution_count": 9,
   "metadata": {},
   "outputs": [
    {
     "name": "stdout",
     "output_type": "stream",
     "text": [
      "\n",
      "\n",
      "During the 2019–20 coronavirus pandemic, Iran reported its first confirmed cases of SARS-CoV-2 infections on 19 February 2020 in Qom.[3] As of 17 March 2020[update], according to Iranian health authorities, there had been 988 COVID-19 deaths in Iran with more than 16,000 confirmed infections.[4][5][6] As of 20 March 2020, Iran has the third highest number of COVID-19 deaths after China and Italy, the highest in Western Asia and the fourth-highest number of SARS-CoV-2 cases, surpassed only by Mainland China, Italy, and Spain.\n",
      "\n",
      "Some non-Iranian-government sources estimates of the numbers of SARS-CoV-2 infections and COVID-19 deaths are much higher than official values.[7][8][9] The Iranian government has also been accused of coverups, censorship and mismanagement.[10][11][12][13] However, the World Health Organisation says that it has not seen problems with Iran's reported figures.[14]\n",
      "\n",
      "Multiple Iranian government ministers and senior officials have been diagnosed SARS-CoV-2 positive, including Iraj Harirchi,[15] Masoumeh Ebtekar, Mojtaba Zolnour,[16] Pirhossein Kolivand,[17] Eshaq Jahangiri, Ali Asghar Mounesan, Reza Rahmani,[18] and Ali Akbar Velayati.[19] 23 members of the Iranian Parliament, around 8% of all MPs, were reported to have been infected by 3 March 2020.[20] Notable individuals reported to have died from COVID-19 include Hadi Khosroshahi,[21] Mohammad Mirmohammadi, Hossein Sheikholeslam, Fatemeh Rahbar, Reza Mohammadi Langroudi,[22] Mohammad-Reza Rahchamani,[23] Nasser Shabani,[24], Hashem Bathaie Golpayegani,[25] and Hamid Kahram.[26][16]\n",
      "\n",
      "\n",
      "\n",
      "\n",
      "\n",
      "\n",
      "\n",
      "On 22 February 2020, the Ministry of Islamic Culture and Guidance, announced the cancellation of all concerts and other cultural events for one week.[109] The Ministry of Health and Medical Education also announced the closure of universities, higher educational institutions and schools in several cities and provinces.[110] The Ministry of Sports and Youth took steps to cancel sporting events, including football matches.[111] The Ministry of Defense and Armed Forces Logistics created first COVID-19 test kit on 23 February.[112] Management and Planning Organization announced government has allocated 5 trillion rials to combat the virus.[113] President Hassan Rouhani ordered the Ministry of Roads and Urban Development to make decisions about public commuting and the Ministry of Industry, Mine and Trade to build the required medical equipment.[114]\n",
      "\n",
      "President Rouhani, however, said on 26 February 2020 that there are no plans to quarantine areas affected by the outbreak, and only individuals would be quarantined.[115] Nevertheless, Iran's Health Ministry said that Friday prayers will not be held in Tehran and areas affected by the outbreak that week.[116]\n",
      "\n",
      "On 20 February, according to a letter of Iran's health ministry to the governor of Qom, a request was made to \"limit the number of pilgrims at the Fatima Masumeh Shrine and other religious sites\".[117] However, Shia shrines in Qom remained open for pilgrims to congregate.[118] The head of Fatima Masumeh shrine encouraged pilgrims to visit the shrine on 27 February: \"We consider this holy shrine to be a place of healing.\"[119]\n",
      "\n",
      "The Iranian judiciary spokesman, Gholam Hossein Ismaili said that \"he was activating a range of preventive measures including cutting the number of people being sent to jail and allowing some inmates out on temporary early release.\"[120]\n",
      "\n",
      "On 26 February, Iranian Cyber Police announced that to stop spreading photos and videos which are untrue and fake on coronavirus, notices were given to 118 people and 24 others were arrested.[121] These indictments were considered vague by Article 19,[122] and government's attempt to control the information flow.[citation needed]\n",
      "\n",
      "Administrative and Recruitment Affairs Organization ruled that telecommuting of government employees would be permissible.[123] Corona National Anti-Virus Headquarters ordered the academic organizations to launch learning management systems.[124]\n",
      "\n",
      "On 2 March 2020, the government announced plans to mobilise 300,000 soldiers and volunteers to combat the spread of the virus, as well as deploying drones and water cannon to disinfect streets.[125] The government created an application and a website to combat the outbreak.[126]\n",
      "\n",
      "As confirmed cases mounted, Iran's health minister announced on 5 March 2020 that checkpoints would be placed between cities to limit travel, and schools and universities closed until the start of the holiday for Persian new year Nowruz on 20 March 2020. Citizens were also advised to avoid using banknotes.[127] Major General Salami, Commander of the Islamic Revolution Guards Corps, stated \"Iran is currently engaged in biological warfare and will definitely win the war\".[128] The government has indicated that it may use force to limit travel between cities.[129]\n",
      "\n",
      "On 9 March 2020, around 70,000 prisoners were temporarily released from prisons due to the outbreak ostensibly to limit the further spread of the disease within prisons.[130] 85,000 prisoners including political prisoners were released in total by 17 March 2020.[131]\n",
      "\n",
      "On 13 March 2020, plan to clear streets, shops and public places in Iran by the Revolutionary Guards was announced. In addition, 1,000 fixed and mobile detection clinics would be set up, the army would work alongside medical staff as well as producing face masks and gloves, and army beds would be made available for patients.[132] Iranian football player Mohammad Mokhtari who on 10 March had posted on Instagram, criticising the authorities’ handling of the coronavirus outbreak was arrested by the Islamic Revolutionary Guard Corps.[133]\n",
      "\n",
      "Iran's President Hassan Rouhani wrote public letter to world leaders asking for help, saying that his country doesn't have access to international markets due to the United States sanctions against Iran.[134]\n",
      "\n",
      "On 16 March 2020, in order to prevent the spread of coronavirus, Fatima Masumeh Shrine, Jamkaran Mosque in Qom, and Imam Reza Shrine in Mashhad were closed.[135] Following this announcement, some people protested to enter the shrine but they were driven out of the shrine by servants and the doors were closed again.[136][137]\n",
      "\n",
      "On 17 March the government warned that \"millions\" might die from the coronavirus if people keep ignoring health guidelines and continue traveling. 90% of the 18,000 coronavirus cases in the Middle East have taken place in Iran; 988 people have died in the country.[138] [139]\n",
      "\n",
      "On 20 February, a SARS-CoV-2 confirmed case was reported for a woman in her 30s who had arrived in Canada from Iran.[140] On 25 February, a woman in her 60s, and the next day her husband, who was also in his 60s, tested positive for SARS-CoV-2.[141]\n",
      "\n",
      "On 21 February, Lebanon confirmed the first COVID-19 case, a 45-year-old woman travelling from Qom, Iran was admitted to a hospital in Beirut.[142][143]\n",
      "\n",
      "On 23 February, Georgia suspended flights to and from Iran.[144] On the same day, Pakistan,[145] Turkey,[146] Afghanistan, and Armenia closed their land borders with Iran.[147] Afghanistan stopped all forms of travel to and from Iran with three suspected cases reported, while Turkey stopped all incoming flights from Iran.[148][149]\n",
      "\n",
      "On 24 February, Iraq, Kuwait, Oman, Tajikistan,[150] restricted and suspended all flights from and to Iran.[151][152] The citizens  of the United Arab Emirates were banned from traveling to Iran. [153] Armenia also suspended flights to Iran but scheduled flights to repatriate its citizens from Iran.[154] Neighbouring countries Kuwait, Iraq and Bahrain announced that it recorded their first coronavirus cases from people who came from Iran.[155] According to the report of Oman’s Health Ministry, there are two Omani women who visited Iran and now infected with the coronavirus.[152]\n",
      "\n",
      "On 26 February, Pakistan announced two persons had been diagnosed with COVID-19, one of them known to have visited Iran.[156]Georgia confirmed the first COVID-19 case, a 50-year-old Georgian man who returned from Iran.[157] China confirmed a man in Zhongwei, Ningxia, who returned from Iran, tested positive for SARS-CoV-2.[158] Kazakhstan announced a plan to stop flights to and from Iran starting 1 March 2020.[159]\n",
      "\n",
      "On 27 February, Estonia confirmed the first COVID-19 case, an Iranian citizen living in Estonia who returned from Iran.[160] Kuwait confirmed 43 cases of COVID-19, all of them involved people who had travelled to Iran in February.[161] Germany, Norway, Sweden and Spain also confirmed new cases involving individuals with previous travels to Iran.[162][163][164][165][166] [167]Russia announced that it will limit flights to and from Iran except for those operated by Aeroflot and Mahan Air, and will also stop issuing visas to Iranian citizens starting 28 February 2020.[168]\n",
      "\n",
      "On 28 February, New Zealand and Belarus reported their first cases of COVID-19, both involving people who had traveled from Iran.[169][170] New Zealand announced temporary restrictions on people travelling from Iran.[171] Malaysia set up separate immigration lanes for travellers from countries with major COVID-19 outbreaks including Iran.[172] The United States Centers for Disease Control and Prevention (CDC) upgraded the status of Iran to level 3 (avoid non-essential travels due to widespread community transmission).[173]\n",
      "\n",
      "On 29 February, Australia announced a ban on foreigners arriving directly from Iran, and required them to stay in a third country for a fortnight before entering Australia. A woman returning from Iran had also tested positive for the virus.[174] Azerbaijan later closed its border with Iran as two Azeri citizens were confirmed to have been infected in Iran.[175]In Qatar, the first infection in a citizen evacuated from Iran was reported.[176]\n",
      "\n",
      "On 1 March 2020, Armenia announced its first case of coronavirus infection, identified in a man who had returned from Iran.[177]\n",
      "\n",
      "On 2 March 2020, Sweden announced that it had suspended flights operated by Iran Air, the first country to ban flights by the airline.[178]\n",
      "\n",
      "On 4 March 2020, Thailand declared that people travelling from Iran must be quarantined for 14 days after arriving with no exception.[179] Iraq and Azerbaijan stopped letting trucks and imports coming from Iran to enter this country, earlier on 29 February Azerbaijan had closed its borders to the people coming from Iran.[180]\n",
      "\n",
      "On 5 March, India Delhi confirmed a case of a citizen who recently travelled to Iran.\n",
      "Thailand announced the 46th and 47th confirmed cases of the country, a 22-year-old Chinese and 20-year-old Thai, who had recently travelled to Iran.[181]\n",
      "\n",
      "On 6 March 2020, Russia announced that it will temporary ban visitors arriving from Iran starting 7 March 2020.[182]\n",
      "\n",
      "On 9 March 2020, Iran has been recognized as a point of spreading coronavirus to other countries. All of Iran's neighboring states have put some kind of limitations or closed their borders with Iran.[183][184]\n",
      "\n",
      "Shanghai confirmed four imported cases from Iran.[185][186] The Chinese province of Gansu also confirmed 25  imported cases from Iran, who had travelled in the charters.[187][188][189][190][191][192] [193]\n",
      "\n",
      "While the US sanctions legally allow humanitarian products to be sold to Iran, due to their nature, very few banks are willing to risk sanctions by trading with Iran.[194][195] This has severely limited the medical supplies available to the Iranian public health system in dealing with the coronavirus outbreak. One right wing lobby group in the United States, United Against Nuclear Iran, has argued to stop all global humanitarian trade with Iran and prevent medical supplies from reaching the country.[196] The UK is pressing the US to ease sanctions on Iran to help it fight the growing coronavirus outbreak.[197]\n",
      "\n",
      "The fifth batch of testing kits was dispatched to Iran by the World Health Organization on 28 February.[198] The group of Chinese medical experts with a new pack of humanitarian aid entered Iran on 29 February.[198]\n",
      "\n",
      "One Dubai-based newspaper wrongly claimed in a front-page headline that all cases of the new coronavirus in the region came from the Islamic Republic. That would be convenient for the United Arab Emirates, a federation of seven sheikhdoms home to Dubai whose 13 coronavirus cases predominantly trace back to China. [199]\n",
      "\n",
      "Brian Hook, the US State Department's envoy on Iran, said that the Iranian government lied \"and their media was instructed not to report on the coronavirus outbreak as it rapidly spread from the religious city of Qom to other cities\".[13]\n",
      "\n",
      "Struan Stevenson, a Scottish politician and coordinator of the Campaign for Iran Change, which is backed by the People's Mujahedin of Iran accused the Iranian government of covering up the true death toll, and estimated the death count to be 1,200 in early March, ten times that of the official census.[200] It was echoed by the People's Mujahedin of Iran, which also accused the government of suppressing death count.[9]\n",
      "\n",
      "In a preprint paper pending for review on medRxiv journal, Tuite et al. estimated that as of 25 February, c. 18,300 infections (95% confidence interval: 3,770–53,470; best-case scenario: 380–5,320 cases) could have occurred in Iran, based on known exported case counts and air travel links between Iran and other countries, the latter compiled from the data in the past. They concluded that Iran is likely to experience an \"epidemic of significant size\", while lack of identified cases in countries with close travel ties to Iran are because the cases are \"likely being missed, rather than being truly absent\".[201]\n",
      "\n",
      "The government of Iran had insisted that there was no confirmed COVID-19 in Iran before 19 February 2020, when the first cases were announced.[202][203] However, a letter claimed to be from the Ministry of Health to the office of the President that circulated on social media suggests that the Iranian authorities were aware of confirmed SARS-CoV-2 cases and deaths many days before the official announcement. Government officials said that the letter was a fake.[204][205] Another letter also circulated on social media; it was signed by interior minister Abdolreza Rahmani Fazli and sent to Health Minister Saeed Namaki to request that the announcement of coronavirus outbreak be delayed until after the parliamentary election to avoid a low turnout of voters. The government has also denied this claim.[206]\n",
      "\n",
      "On 9 March, Graeme Wood stated that he deems the official count \"certainly an undercount\", and provided alternative estimates which he calls \"doomsday figures,” estimating that in the neighborhood of 2 million Iranians were afflicted.[207]\n",
      "\n",
      "On 28 February 2020, Michael Ryan, chief of the WHO health emergencies programme told the press that the mortality rate in Iran indicated its outbreak might be more widespread than realised.[208]\n",
      "\n",
      "On 2 March 2020, The World Health Organization director general Tedros Adhanom said in an interview with CNBC that the WHO has its own mechanism for checking national health authorities' statistics and did not see problems with the official Iranian government SARS-CoV-2 and COVID-19 counts.[209]\n",
      "\n",
      "On 17 March 2020, WHO regional emergency director Rick Brennan said the number of cases reported in Iran could represent only about 20% of the real numbers because testing was restricted to severe cases, as is the case even in some wealthy European countries. He added \"We’ve said the weakest link in their chain is the data. They are rapidly increasing their ability to test and so the numbers will go up... [t]here’s a great commitment and they are taking it seriously from the highest level of government\".[210]\n",
      "\n",
      "Masoud Pezeshkian, the First Deputy of the Parliament of Iran, claimed on 3 March 2020 that the figures reported by Iran's health ministry are \"not real\".[211]\n",
      "Member of parliament for Qom Ahmad Amirabadi Farahani claimed on 24 February 2020 that COVID-19 had arrived in Qom three weeks prior, in early February, that the first death had occurred on 13 February but was not announced by officials, and that the true number of COVID-19 deaths in Qom was 50.[7][212] Deputy health minister Iraj Harirchi denied giving false figures, and stated that the death count was 12 with a total of 66 infections.[213]\n",
      "\n",
      "On 28 February 2020 BBC reported 210 deaths have occurred in Iran, citing \"sources in the country's health system\", while the official number for the day was 34.[208] Kianush Jahanpur, the spokesman for the health ministry rejected the BBC report in a tweet.[8]\n",
      "\n",
      "On 12 March, The Economist wrote \"[s]ome in the government think the actual number of cases is closer to 100,000\", while the official count of infected people was about 9,000.[214]\n",
      "\n",
      "On 15 March, Radio Farda reported that \"based on the statements made by local officials in various parts of Iran\", around 1,294 have died, while the official death toll reached 724.[215]\n",
      "\n",
      "On 12 March, The Washington Post published satellite images and analysis provided by Maxar Technologies, saying that vast burial pits were being excavated near Qom, said to be used to accommodate the potentially increasing number of victims in the city. The digging of the new section of burial pits began on 21 February, only two days after the government announced their first cases of COVID-19, and then rapidly expanded. The number of fresh graves suggests preparation for a far larger number of deaths.[216] Qom municipality official responsible for the city's burial sites said \"the graves had been planned before the outbreak as part of usual procedures in the cemetery\", and some observers pointed that overall length of the purported 100 yards of cannot accommodate more than about 75-100 graves.[217]\n",
      "\n",
      "The UN’s Children Fund (UNICEF) has flown aid into Iran. In late February, the first cargo plane with Personal Protective Equipment (PPE) arrived, another on March 3rd and a third aircraft on March 16th. On March 3rd, the United Arab Emirates sent an aircraft with medical supplies and five WHO experts. Uzbekistan sent a plane on March 16th.[218]\n",
      "\n"
     ]
    }
   ],
   "source": [
    "for doc in docList:\n",
    "    print(doc)"
   ]
  },
  {
   "cell_type": "markdown",
   "metadata": {},
   "source": [
    "The Entity-Recognition from Spacy works bad for dates, it does somewhat work for GeoPoliticalEntities:"
   ]
  },
  {
   "cell_type": "code",
   "execution_count": 10,
   "metadata": {},
   "outputs": [
    {
     "name": "stdout",
     "output_type": "stream",
     "text": [
      "The \n",
      "UN ORG\n",
      "’s \n",
      "Children ORG\n",
      "Fund ORG\n",
      "( \n",
      "UNICEF ORG\n",
      ") \n",
      "has \n",
      "flown \n",
      "aid \n",
      "into \n",
      "Iran GPE\n",
      ". \n",
      "In \n",
      "late DATE\n",
      "February DATE\n",
      ", \n",
      "the \n",
      "first ORDINAL\n",
      "cargo \n",
      "plane \n",
      "with \n",
      "Personal ORG\n",
      "Protective ORG\n",
      "Equipment ORG\n",
      "( \n",
      "PPE ORG\n",
      ") \n",
      "arrived \n",
      ", \n",
      "another \n",
      "on \n",
      "March DATE\n",
      "3rd DATE\n",
      "and \n",
      "a \n",
      "third \n",
      "aircraft \n",
      "on \n",
      "March DATE\n",
      "16th DATE\n",
      ". \n",
      "On \n",
      "March DATE\n",
      "3rd DATE\n",
      ", \n",
      "the GPE\n",
      "United GPE\n",
      "Arab GPE\n",
      "Emirates GPE\n",
      "sent \n",
      "an \n",
      "aircraft \n",
      "with \n",
      "medical \n",
      "supplies \n",
      "and \n",
      "five CARDINAL\n",
      "WHO \n",
      "experts \n",
      ". \n",
      "Uzbekistan GPE\n",
      "sent \n",
      "a \n",
      "plane \n",
      "on \n",
      "March DATE\n",
      "16th.[218 DATE\n",
      "] \n",
      "\n",
      " \n"
     ]
    }
   ],
   "source": [
    "for token in doc:\n",
    "    if token.ent_type_ != None:\n",
    "        print(token,token.ent_type_)"
   ]
  },
  {
   "cell_type": "markdown",
   "metadata": {},
   "source": [
    "# Date Matcher for each month"
   ]
  },
  {
   "cell_type": "code",
   "execution_count": 27,
   "metadata": {},
   "outputs": [],
   "source": [
    "from spacy.matcher import PhraseMatcher\n",
    "matcher = PhraseMatcher(nlp.vocab)"
   ]
  },
  {
   "cell_type": "code",
   "execution_count": 28,
   "metadata": {},
   "outputs": [],
   "source": [
    "from spacy.matcher import Matcher\n",
    "\n",
    "matcher = Matcher(nlp.vocab)\n",
    "\n",
    "pattern = [ {\"IS_DIGIT\":True,'OP': '?'},{\"TEXT\": \"January\"},{\"IS_DIGIT\":True,'OP': '?'}]\n",
    "pattern2 = [ {\"IS_DIGIT\":True,'OP': '?'},{\"TEXT\": \"February\"},{\"IS_DIGIT\":True,'OP': '?'}]\n",
    "pattern3 = [ {\"IS_DIGIT\":True,'OP': '?'},{\"TEXT\": \"March\"},{\"IS_DIGIT\":True,'OP': '?'}]\n",
    "\n",
    "matcher.add(\"JAN\", None, pattern)\n",
    "matcher.add(\"FEB\", None, pattern2)\n",
    "matcher.add(\"MARCH\", None, pattern3)"
   ]
  },
  {
   "cell_type": "code",
   "execution_count": 29,
   "metadata": {},
   "outputs": [
    {
     "name": "stdout",
     "output_type": "stream",
     "text": [
      "Matches: ['February', 'March', 'March', 'March', 'March']\n"
     ]
    }
   ],
   "source": [
    "matches = matcher(doc)\n",
    "print(\"Matches:\", [doc[start:end].text for match_id, start, end in matches])"
   ]
  },
  {
   "cell_type": "markdown",
   "metadata": {},
   "source": [
    "print of all matches, skip if boring"
   ]
  },
  {
   "cell_type": "code",
   "execution_count": 30,
   "metadata": {},
   "outputs": [
    {
     "name": "stdout",
     "output_type": "stream",
     "text": [
      "Matches: []\n",
      "Matches: ['19 February', '19 February 2020', 'February', 'February 2020', 'March', '20 March', '20 March 2020', 'March', 'March 2020']\n",
      "Matches: []\n",
      "Matches: ['3 March', 'March']\n",
      "Matches: []\n",
      "Matches: []\n",
      "Matches: []\n",
      "Matches: []\n",
      "Matches: []\n",
      "Matches: ['22 February', '22 February 2020', 'February', 'February 2020']\n",
      "Matches: ['26 February', '26 February 2020', 'February', 'February 2020']\n",
      "Matches: ['20 February', 'February', '27 February', 'February']\n",
      "Matches: []\n",
      "Matches: ['26 February', 'February']\n",
      "Matches: []\n",
      "Matches: ['2 March', '2 March 2020', 'March', 'March 2020']\n",
      "Matches: ['5 March', '5 March 2020', 'March', 'March 2020', '20 March', '20 March 2020', 'March', 'March 2020']\n",
      "Matches: ['9 March', '9 March 2020', 'March', 'March 2020', '17 March', 'March']\n",
      "Matches: ['13 March', '13 March 2020', 'March', 'March 2020', '10 March', 'March']\n",
      "Matches: []\n",
      "Matches: ['16 March', '16 March 2020', 'March', 'March 2020']\n",
      "Matches: ['17 March', 'March']\n",
      "Matches: ['20 February', 'February', '25 February', 'February']\n",
      "Matches: ['21 February', 'February']\n",
      "Matches: ['23 February', 'February']\n",
      "Matches: ['24 February', 'February']\n",
      "Matches: ['26 February', 'February', '1 March', 'March']\n",
      "Matches: ['27 February', 'February', '28 February', 'February']\n",
      "Matches: ['28 February', 'February']\n",
      "Matches: ['29 February', 'February']\n",
      "Matches: ['1 March', '1 March 2020', 'March', 'March 2020']\n",
      "Matches: ['2 March', '2 March 2020', 'March', 'March 2020']\n",
      "Matches: ['4 March', '4 March 2020', 'March', 'March 2020', '29 February', 'February']\n",
      "Matches: ['5 March', 'March']\n",
      "Matches: ['6 March', '6 March 2020', 'March', 'March 2020', '7 March', 'March']\n",
      "Matches: ['9 March', '9 March 2020', 'March', 'March 2020']\n",
      "Matches: []\n",
      "Matches: []\n",
      "Matches: []\n",
      "Matches: []\n",
      "Matches: []\n",
      "Matches: ['March']\n",
      "Matches: ['25 February', 'February']\n",
      "Matches: ['19 February', '19 February 2020', 'February', 'February 2020']\n",
      "Matches: ['9 March', 'March']\n",
      "Matches: ['28 February', '28 February 2020', 'February', 'February 2020']\n",
      "Matches: ['2 March', '2 March 2020', 'March', 'March 2020']\n",
      "Matches: ['17 March', '17 March 2020', 'March', 'March 2020']\n",
      "Matches: ['3 March', '3 March 2020', 'March', 'March 2020', '24 February', '24 February 2020', 'February', 'February 2020', 'February', '13 February', 'February']\n",
      "Matches: ['28 February', '28 February 2020', 'February', 'February 2020']\n",
      "Matches: ['12 March', 'March']\n",
      "Matches: ['15 March', 'March']\n",
      "Matches: ['12 March', 'March', '21 February', 'February']\n",
      "Matches: ['February', 'March', 'March', 'March', 'March']\n"
     ]
    }
   ],
   "source": [
    "for doc in docList:\n",
    "    matches = matcher(doc)\n",
    "    print(\"Matches:\", [doc[start:end].text for match_id, start, end in matches])"
   ]
  },
  {
   "cell_type": "code",
   "execution_count": 31,
   "metadata": {},
   "outputs": [],
   "source": [
    "SentList=[]\n",
    "for doc in docList:\n",
    "    matches = matcher(doc)\n",
    "    for match_id, start, end in matches:\n",
    "        #print(doc[start].sent,'\\n')\n",
    "        if doc[start].sent not in SentList:\n",
    "            SentList.append(doc[start].sent)"
   ]
  },
  {
   "cell_type": "markdown",
   "metadata": {},
   "source": [
    "all matched sentences. Must be further filtered, there are only a few sentences about actual responses, many about patients and deaths"
   ]
  },
  {
   "cell_type": "code",
   "execution_count": 32,
   "metadata": {},
   "outputs": [
    {
     "name": "stdout",
     "output_type": "stream",
     "text": [
      "During the 2019–20 coronavirus pandemic, Iran reported its first confirmed cases of SARS-CoV-2 infections on 19 February 2020 in Qom.[3] \n",
      "\n",
      "As of 17 March 2020[update], according to Iranian health authorities, there had been 988 COVID-19 deaths in Iran with more than 16,000 confirmed infections.[4][5][6] \n",
      "\n",
      "As of 20 March 2020, Iran has the third highest number of COVID-19 deaths after China and Italy, the highest in Western Asia and the fourth-highest number of SARS-CoV-2 cases, surpassed only by Mainland China, Italy, and Spain.\n",
      " \n",
      "\n",
      "23 members of the Iranian Parliament, around 8% of all MPs, were reported to have been infected by 3 March 2020.[20] \n",
      "\n",
      "On 22 February 2020, the Ministry of Islamic Culture and Guidance, announced the cancellation of all concerts and other cultural events for one \n",
      "\n",
      "President Rouhani, however, said on 26 February 2020 that there are no plans to quarantine areas affected by the outbreak, and only individuals would be quarantined.[115] \n",
      "\n",
      "On 20 February, according to a letter of Iran's health ministry to the governor of Qom, a request was made to \"limit the number of pilgrims at the Fatima Masumeh Shrine and other religious sites\".[117] \n",
      "\n",
      "The head of Fatima Masumeh shrine encouraged pilgrims to visit the shrine on 27 February: \n",
      "\n",
      "On 26 February, Iranian Cyber Police announced that to stop spreading photos and videos which are untrue and fake on coronavirus, notices were given to 118 people and 24 others were arrested.[121] \n",
      "\n",
      "On 2 March 2020, the government announced plans to mobilise 300,000 soldiers and volunteers to combat the spread of the virus, as well as deploying drones and water cannon to disinfect streets.[125] \n",
      "\n",
      "As confirmed cases mounted, Iran's health minister announced on 5 March 2020 that checkpoints would be placed between cities to limit travel, and schools and universities closed until the start of the holiday for Persian new year Nowruz on 20 March 2020. \n",
      "\n",
      "On 9 March 2020, around 70,000 prisoners were temporarily released from prisons due to the outbreak ostensibly to limit the further spread of the disease within prisons.[130] 85,000 prisoners including political prisoners were released in total by 17 March 2020.[131]\n",
      " \n",
      "\n",
      "On 13 March 2020, plan to clear streets, shops and public places in Iran by the Revolutionary Guards was announced. \n",
      "\n",
      "In addition, 1,000 fixed and mobile detection clinics would be set up, the army would work alongside medical staff as well as producing face masks and gloves, and army beds would be made available for patients.[132] Iranian football player Mohammad Mokhtari who on 10 March had posted on Instagram, criticising the authorities’ handling of the coronavirus outbreak was arrested by the Islamic Revolutionary Guard Corps.[133]\n",
      " \n",
      "\n",
      "On 16 March 2020, in order to prevent the spread of coronavirus, Fatima Masumeh Shrine, Jamkaran Mosque in Qom, and Imam Reza Shrine in Mashhad were closed.[135] Following this announcement, some people protested to enter the shrine but they were driven out of the shrine by servants and the doors were closed again.[136][137]\n",
      " \n",
      "\n",
      "On 17 March the government warned that \"millions\" might die from the coronavirus if people keep ignoring health guidelines and continue traveling. \n",
      "\n",
      "On 20 February, a SARS-CoV-2 confirmed case was reported for a woman in her 30s who had arrived in Canada from Iran.[140] \n",
      "\n",
      "On 25 February, a woman in her 60s, and the next day her husband, who was also in his 60s, tested positive for SARS-CoV-2.[141]\n",
      " \n",
      "\n",
      "On 21 February, Lebanon confirmed the first COVID-19 case, a 45-year-old woman travelling from Qom, Iran was admitted to a hospital in Beirut.[142][143]\n",
      " \n",
      "\n",
      "On 23 February, Georgia suspended flights to and from Iran.[144] \n",
      "\n",
      "On 24 February, Iraq, Kuwait, Oman, Tajikistan,[150] restricted and suspended all flights from and to Iran.[151][152] \n",
      "\n",
      "On 26 February, Pakistan announced two persons had been diagnosed with COVID-19, one of them known to have visited Iran.[156]Georgia confirmed the first COVID-19 case, a 50-year-old Georgian man who returned from Iran.[157] \n",
      "\n",
      "Kazakhstan announced a plan to stop flights to and from Iran starting 1 March 2020.[159]\n",
      " \n",
      "\n",
      "On 27 February, Estonia confirmed the first COVID-19 case, an Iranian citizen living in Estonia who returned from Iran.[160] \n",
      "\n",
      "[167]Russia announced that it will limit flights to and from Iran except for those operated by Aeroflot and Mahan Air, and will also stop issuing visas to Iranian citizens starting 28 February 2020.[168]\n",
      " \n",
      "\n",
      "On 28 February, New Zealand and Belarus reported their first cases of COVID-19, both involving people who had traveled from Iran.[169][170] \n",
      "\n",
      "On 29 February, Australia announced a ban on foreigners arriving directly from Iran, and required them to stay in a third country for a fortnight before entering Australia. \n",
      "\n",
      "On 1 March 2020, Armenia announced its first case of coronavirus infection, identified in a man who had returned from Iran.[177]\n",
      " \n",
      "\n",
      "On 2 March 2020, Sweden announced that it had suspended flights operated by Iran Air, the first country to ban flights by the airline.[178]\n",
      " \n",
      "\n",
      "On 4 March 2020, Thailand declared that people travelling from Iran must be quarantined for 14 days after arriving with no exception.[179] Iraq and Azerbaijan stopped letting trucks and imports coming from Iran to enter this country, earlier on 29 February Azerbaijan had closed its borders to the people coming from Iran.[180]\n",
      " \n",
      "\n",
      "On 5 March, India Delhi confirmed a case of a citizen who recently travelled to Iran.\n",
      " \n",
      "\n",
      "On 6 March 2020, Russia announced that it will temporary ban visitors arriving from Iran starting 7 March 2020.[182]\n",
      " \n",
      "\n",
      "On 9 March 2020, Iran has been recognized as a point of spreading coronavirus to other countries. \n",
      "\n",
      "Struan Stevenson, a Scottish politician and coordinator of the Campaign for Iran Change, which is backed by the People's Mujahedin of Iran accused the Iranian government of covering up the true death toll, and estimated the death count to be 1,200 in early March, ten times that of the official \n",
      "\n",
      "estimated that as of 25 February, c. 18,300 infections (95% confidence interval: 3,770–53,470; best-case scenario: 380–5,320 cases) could have occurred in Iran, based on known exported case counts and air travel links between Iran and other countries, the latter compiled from the data in the past. \n",
      "\n",
      "The government of Iran had insisted that there was no confirmed COVID-19 in Iran before 19 February 2020, when the first cases were announced.[202][203] \n",
      "\n",
      "On 9 March, Graeme Wood stated that he deems the official count \"certainly an undercount\", and provided alternative estimates which he calls \"doomsday figures,” estimating that in the neighborhood of 2 million Iranians were afflicted.[207]\n",
      " \n",
      "\n",
      "On 28 February 2020, Michael Ryan, chief of the WHO health emergencies programme told the press that the mortality rate in Iran indicated its outbreak might be more widespread than realised.[208]\n",
      " \n",
      "\n",
      "On 2 March 2020, The World Health Organization director general Tedros Adhanom said in an interview with CNBC that the WHO has its own mechanism for checking national health authorities' statistics and did not see problems with the official Iranian government SARS-CoV-2 and COVID-19 counts.[209]\n",
      " \n",
      "\n",
      "On 17 March 2020, WHO regional emergency director Rick Brennan said the number of cases reported in Iran could represent only about 20% of the real numbers because testing was restricted to severe cases, as is the case even in some wealthy European countries. \n",
      "\n",
      "Masoud Pezeshkian, the First Deputy of the Parliament of Iran, claimed on 3 March 2020 that the figures reported by Iran's health ministry are \"not real\".[211]\n",
      "Member of parliament for Qom Ahmad Amirabadi \n",
      "\n",
      "Farahani claimed on 24 February 2020 that COVID-19 had arrived in Qom three weeks prior, in early February, that the first death had occurred on 13 February but was not announced by officials, and that the true number of COVID-19 deaths in Qom was 50.[7][212] \n",
      "\n",
      "On 28 February 2020 BBC reported 210 deaths have occurred in Iran, citing \"sources in the country's health system\", while the official number for the day was 34.[208] \n",
      "\n",
      "On 12 March, The Economist wrote \"[s]ome in the government think the actual number of cases is closer to 100,000\", while the official count of infected people was about 9,000.[214]\n",
      " \n",
      "\n",
      "On 15 March, Radio Farda reported that \"based on the statements made by local officials in various parts of Iran\", around 1,294 have died, while the official death toll reached 724.[215]\n",
      " \n",
      "\n",
      "On 12 March, The Washington Post published satellite images and analysis provided by Maxar Technologies, saying that vast burial pits were being excavated near Qom, said to be used to accommodate the potentially increasing number of victims in the city. \n",
      "\n",
      "The digging of the new section of burial pits began on 21 February, only two days after the government announced their first cases of COVID-19, and then rapidly expanded. \n",
      "\n",
      "In late February, the first cargo plane with Personal Protective Equipment (PPE) arrived, another on March 3rd and a third aircraft on March 16th. \n",
      "\n",
      "On March 3rd, the United Arab Emirates sent an aircraft with medical supplies and five WHO experts. \n",
      "\n",
      "Uzbekistan sent a plane on March 16th.[218]\n",
      " \n",
      "\n"
     ]
    }
   ],
   "source": [
    "for sent in SentList:\n",
    "    print(sent,'\\n')"
   ]
  },
  {
   "cell_type": "code",
   "execution_count": null,
   "metadata": {},
   "outputs": [],
   "source": []
  }
 ],
 "metadata": {
  "kernelspec": {
   "display_name": "Python 3",
   "language": "python",
   "name": "python3"
  },
  "language_info": {
   "codemirror_mode": {
    "name": "ipython",
    "version": 3
   },
   "file_extension": ".py",
   "mimetype": "text/x-python",
   "name": "python",
   "nbconvert_exporter": "python",
   "pygments_lexer": "ipython3",
   "version": "3.6.9"
  }
 },
 "nbformat": 4,
 "nbformat_minor": 4
}
