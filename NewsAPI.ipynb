{
 "cells": [
  {
   "cell_type": "markdown",
   "metadata": {},
   "source": [
    "# Finding News articles related to lockdowns due to Corona Pandemic"
   ]
  },
  {
   "cell_type": "code",
   "execution_count": 155,
   "metadata": {},
   "outputs": [],
   "source": [
    "from newsapi import NewsApiClient\n",
    "\n",
    "# Init\n",
    "newsapi = NewsApiClient(api_key='1f46a912205c4a158c70b9a7d1a72a62')\n",
    "\n",
    "articles = list()\n",
    "\n",
    "# We are greedy, take every news we can get until we reach the limit\n",
    "for n in range(1,10):\n",
    "    try:\n",
    "        headlines = newsapi.get_everything(q='Marysville AND Washington AND covid',language='en',from_param='2020-02-21',page=n)\n",
    "        articles = articles + headlines['articles']\n",
    "    except: # We reached the page limit of our account\n",
    "        break"
   ]
  },
  {
   "cell_type": "code",
   "execution_count": 156,
   "metadata": {},
   "outputs": [
    {
     "data": {
      "text/plain": [
       "[{'source': {'id': None, 'name': 'Q13fox.com'},\n",
       "  'author': 'https://www.facebook.com/Q13FOX',\n",
       "  'title': 'Several western Washington schools to close Tuesday over coronavirus concerns - Q13 News Seattle',\n",
       "  'description': 'Several western Washington schools to close Tuesday over coronavirus concerns Q13 News Seattle Coronavirus prompts a dozen schools in Washington state to close, others weigh options NBC News Several Washington schools closed amid coronavirus concerns KING 5 U…',\n",
       "  'url': 'https://q13fox.com/2020/03/02/several-western-washington-schools-to-close-tuesday-over-coronavirus-concerns/',\n",
       "  'urlToImage': 'https://tribkcpq.files.wordpress.com/2020/03/o0cesgv5rdudypnn4xmdoxojbro-i4w8.jpg?quality=85&strip=all',\n",
       "  'publishedAt': '2020-03-03T03:45:00Z',\n",
       "  'content': 'BOTHELL, Wash. -- Here is a list of schools in western Washington that will be closed on Tuesday, March 3 for coronavirus concerns and preparations:\\r\\n<ol><li>Northshore School District-\\xa0All Schools closed to students</li><li>Grove Elementary School and Early … [+2517 chars]'},\n",
       " {'source': {'id': None, 'name': 'Kiro7.com'},\n",
       "  'author': 'KIRO 7 News Staff',\n",
       "  'title': 'Coronavirus: Washington cases increase to 70; death toll remains at 10 - KIRO Seattle',\n",
       "  'description': 'Coronavirus: Washington cases increase to 70; death toll remains at 10 KIRO Seattle View Full Coverage on Google News',\n",
       "  'url': 'https://www.kiro7.com/news/local/coronavirus-vp-pence-pledges-full-support-washington-cases-deaths-rise/XIDPHMLVOJAAREQ5YCL75367PU/',\n",
       "  'urlToImage': 'https://www.kiro7.com/resizer/Y3nulceoRtOe7MM_CnJnbowNduI=/1200x628/d1hfln2sfez66z.cloudfront.net/03-06-2020/t_fd55537177294549b505f731cecdf84a_name_https___api_ap_org_media_v_content_28fbd1438572453298532354a58bae06_scaled.jpg',\n",
       "  'publishedAt': '2020-03-05T20:36:33Z',\n",
       "  'content': 'SEATTLE — Vice President Mike Pence pledged the Trump administrations full support to state officials after touring the Washington State Department of Healths Emergency Operations Center Thursday.\\r\\nThe number of statewide coronavirus cases rose to 70 Thursday… [+10655 chars]'},\n",
       " {'source': {'id': 'cbc-news', 'name': 'CBC News'},\n",
       "  'author': 'CBC News',\n",
       "  'title': 'Get informed on the top stories of the day in one quick scan',\n",
       "  'description': \"In today's Morning Brief, we look at some of the things Canadians are doing to help each out during the coronavirus outbreak. We also reports on the outbreak from Italy and Ethiopia, and retailers are reacting by cutting their hours or temporarily closing the…\",\n",
       "  'url': 'https://www.cbc.ca/news/morning-brief-march-16-2020-1.5498832',\n",
       "  'urlToImage': 'https://i.cbc.ca/1.5363910.1574359561!/fileImage/httpImage/image.jpg_gen/derivatives/16x9_620/cbc-news-morning-brief-newsletter.jpg',\n",
       "  'publishedAt': '2020-03-16T10:38:30Z',\n",
       "  'content': 'Good morning! This is our daily news roundup\\xa0with everything you need to know in one concise read. Sign up here to get this delivered to your inbox every morning.\\r\\nHow Canadians are helping each other amid the COVID-19 outbreak\\r\\nAs governments respond to the … [+7904 chars]'},\n",
       " {'source': {'id': None, 'name': 'Kiro7.com'},\n",
       "  'author': 'KIRO 7 News Staff',\n",
       "  'title': 'Coronavirus: UW to suspend in-person classes through end of winter quarter - KIRO Seattle',\n",
       "  'description': 'Coronavirus: UW to suspend in-person classes through end of winter quarter KIRO Seattle Coronavirus Updates: Worldwide Cases Top 100,000; 14 Dead in US The Weather Channel First US Coronavirus Death Confirmed Outside Washington State CBN News Number of confir…',\n",
       "  'url': 'https://www.kiro7.com/news/local/coronavirus-uw-suspend-in-person-classes-through-end-winter-quarter/XIDPHMLVOJAAREQ5YCL75367PU/',\n",
       "  'urlToImage': 'https://arc-anglerfish-arc2-prod-cmg.s3.amazonaws.com/public/3XHEUNBGTNEAPHTTAXEERI6B6Q.jpg',\n",
       "  'publishedAt': '2020-03-06T06:40:07Z',\n",
       "  'content': 'SEATTLE — The University of Washington announced Friday that starting on Monday, classes at all UW campuses will no longer be meeting in person through the end of winter quarter. \\r\\nThe move comes after the number of coronavirus cases in Washington rose to 70 … [+12249 chars]'},\n",
       " {'source': {'id': None, 'name': 'Seattletimes.com'},\n",
       "  'author': 'Sydney Brownstone and Scott Greenstone',\n",
       "  'title': 'Officials and shelters prepare for coronavirus in Seattle-area homeless population as illness brings more deaths',\n",
       "  'description': 'King County, which has seen the highest number of deaths in the U.S. from COVID-19, the disease caused by the virus, has the third-highest homeless population in the country.',\n",
       "  'url': 'https://www.seattletimes.com/seattle-news/homeless/officials-and-shelters-prepare-for-coronavirus-in-seattle-area-homeless-population-as-illness-brings-more-deaths/',\n",
       "  'urlToImage': 'https://static.seattletimes.com/wp-content/uploads/2020/03/03022020_teaser_tzr_180709-780x501.jpg',\n",
       "  'publishedAt': '2020-03-03T04:03:40Z',\n",
       "  'content': 'Joe Brown, who lives in a thicket of trees sandwiched between Interstate 5 and Harborview Medical Center, said Monday afternoon that he had not heard much about the novel coronavirus that has killed six people in Washington state and is expected to spread.\\r\\nB… [+7114 chars]'},\n",
       " {'source': {'id': None, 'name': 'Komonews.com'},\n",
       "  'author': 'by KOMO News Staff',\n",
       "  'title': 'Schools closing Tuesday for cleanings over coronavirus concerns',\n",
       "  'description': 'RENTON, Wash. -- Several schools in the Puget Sound region will be closed Tuesday as a precaution for deep cleaning over coronavirus concerns with an entire district set to close Tuesday for training.',\n",
       "  'url': 'https://komonews.com/news/coronavirus/5-school-close-monday-for-cleanings-over-coronavirus-concerns',\n",
       "  'urlToImage': 'https://s.hdnux.com/photos/41/62/76/8859547/6/rawImage.jpg',\n",
       "  'publishedAt': '2020-03-03T14:39:56Z',\n",
       "  'content': '<ul><li>Bothell High School, pictured in a school district photo.\\r\\nBothell High School, pictured in a school district photo.\\r\\n Photo: BHS\\r\\n</li></ul>\\r\\nBothell High School, pictured in a school district photo.\\r\\nBothell High School, pictured in a school distric… [+4364 chars]'},\n",
       " {'source': {'id': None, 'name': 'Christianitytoday.com'},\n",
       "  'author': 'Daniel Silliman',\n",
       "  'title': 'Churches Reconsider Drive-In Worship',\n",
       "  'description': 'Faced with COVID-19 quarantines and new rules for social distancing, some pastors are serious about reviving the 1950s fad. Drive-in church seemed like a joke. And then, in a moment, it didn’t anymore. The idea was a novelty in the 1950s, promoted as the chur…',\n",
       "  'url': 'https://www.christianitytoday.com/news/2020/march/drive-in-church-covid19-coronavirus-fm-transmitter-schuller.html',\n",
       "  'urlToImage': 'https://www-images.christianitytoday.com/images/116203.png?w=1200',\n",
       "  'publishedAt': '2020-03-21T09:00:00Z',\n",
       "  'content': 'Drive-in church seemed like a joke. And then, in a moment, it didn’t anymore.\\r\\nThe idea was a novelty in the 1950s, promoted as the church of the future. But it’s time didn’t come, and never came, and then it was gone, and the whole thing seemed silly. There … [+9577 chars]'},\n",
       " {'source': {'id': None, 'name': 'Thestranger.com'},\n",
       "  'author': 'Rich Smith',\n",
       "  'title': \"As Cyrus Habib Joins the Priesthood, a Handful of People Say They're Running for Lt. Gov.\",\n",
       "  'description': 'The Lt. Governor\\'s race is wide open, baby! by Rich Smith Habib became \"the highest-ranking Iranian-American elected official anywhere in the United States\" when he was elected Lieutenant Governor in 2016, according to the Seattle Times. Now he\\'s headed for t…',\n",
       "  'url': 'https://www.thestranger.com/slog/2020/03/20/43202280/as-cyrus-habib-joins-the-priesthood-a-handful-of-people-say-theyre-running-for-lt-gov',\n",
       "  'urlToImage': 'https://media1.fdncms.com/stranger/imager/u/large/43203190/1584722831-senator-habib-2015_cropped.jpg',\n",
       "  'publishedAt': '2020-03-20T18:28:04Z',\n",
       "  'content': 'Look, I know you all woke up this morning and thought, \"With Cyrus Habib bowing out to join the cloth, who is thinking about running for Lieutenant Governor? And who among them might have the Habibian command of parliamentary procedure necessary to run the St… [+3102 chars]'},\n",
       " {'source': {'id': None, 'name': 'King5.com'},\n",
       "  'author': None,\n",
       "  'title': 'Real-time updates: 1.2 million students affected by statewide school closures due to coronavirus',\n",
       "  'description': 'Find developments on the coronavirus outbreak in Washington state as we work together to separate facts from fear.',\n",
       "  'url': 'https://www.king5.com/article/news/health/coronavirus/real-time-coronavirus-updates/281-b258146d-219a-40a0-8874-cb0fb4f81ec2',\n",
       "  'urlToImage': 'https://media.12news.com/assets/KING/images/6e852da7-f508-4a79-9974-b5a70f8c5372/6e852da7-f508-4a79-9974-b5a70f8c5372_1140x641.png',\n",
       "  'publishedAt': '2020-03-14T15:59:33Z',\n",
       "  'content': 'Key facts:\\r\\n<ul><li>37 coronavirus deaths among at least 568 overall cases in Washington.</li><li>6,001 people have tested negative in Washington.</li><li>Gov. Inslee announced all private and public K-12 schools will close through April to help stop the spre… [+48333 chars]'}]"
      ]
     },
     "execution_count": 156,
     "metadata": {},
     "output_type": "execute_result"
    }
   ],
   "source": [
    "articles"
   ]
  },
  {
   "cell_type": "code",
   "execution_count": 146,
   "metadata": {},
   "outputs": [],
   "source": [
    "import pandas as pd\n",
    "df = pd.DataFrame(articles)\n",
    "df['publishedAt'] = pd.to_datetime(df['publishedAt'])"
   ]
  },
  {
   "cell_type": "code",
   "execution_count": 147,
   "metadata": {},
   "outputs": [
    {
     "name": "stdout",
     "output_type": "stream",
     "text": [
      "0     Coronavirus: Germany latest country to close b...\n",
      "1        Coronavirus: Spanish deaths surge close to 500\n",
      "2     European Union closes all external borders for...\n",
      "3     Coronavirus updates: Fed slashes interest rate...\n",
      "4     Coronavirus updates: New York closes gyms and ...\n",
      "                            ...                        \n",
      "95    A-Z Complete Coronavirus Travel Guide—The Late...\n",
      "96    Coronavirus latest: 10 million people in Germa...\n",
      "97     France begins shutting down oldest nuclear plant\n",
      "98    Czechs shut borders to travelers from 15 count...\n",
      "99    COVID-19 March 19 International update at 2130...\n",
      "Name: title, Length: 100, dtype: object\n"
     ]
    }
   ],
   "source": [
    "print((df['title']))"
   ]
  },
  {
   "cell_type": "code",
   "execution_count": 148,
   "metadata": {},
   "outputs": [],
   "source": [
    "test = df.resample('D', on='publishedAt').count()"
   ]
  },
  {
   "cell_type": "code",
   "execution_count": 149,
   "metadata": {},
   "outputs": [
    {
     "data": {
      "text/plain": [
       "<matplotlib.axes._subplots.AxesSubplot at 0x7f17009ee990>"
      ]
     },
     "execution_count": 149,
     "metadata": {},
     "output_type": "execute_result"
    },
    {
     "data": {
      "image/png": "[encoded data removed]",
      "text/plain": [
       "<Figure size 432x288 with 1 Axes>"
      ]
     },
     "metadata": {
      "needs_background": "light"
     },
     "output_type": "display_data"
    }
   ],
   "source": [
    "test['source'].plot(grid=True,marker='o')"
   ]
  },
  {
   "cell_type": "code",
   "execution_count": 18,
   "metadata": {},
   "outputs": [
    {
     "data": {
      "text/plain": [
       "4.382904746238336"
      ]
     },
     "execution_count": 18,
     "metadata": {},
     "output_type": "execute_result"
    }
   ],
   "source": [
    "test['source'].max()/test['source'].std()"
   ]
  },
  {
   "cell_type": "code",
   "execution_count": 19,
   "metadata": {},
   "outputs": [],
   "source": [
    "from datetime import datetime, timedelta "
   ]
  },
  {
   "cell_type": "code",
   "execution_count": 20,
   "metadata": {},
   "outputs": [
    {
     "ename": "TypeError",
     "evalue": "Invalid comparison between dtype=datetime64[ns, UTC] and int64",
     "output_type": "error",
     "traceback": [
      "\u001b[0;31m---------------------------------------------------------------------------\u001b[0m",
      "\u001b[0;31mTypeError\u001b[0m                                 Traceback (most recent call last)",
      "\u001b[0;32m<ipython-input-20-a64400292702>\u001b[0m in \u001b[0;36m<module>\u001b[0;34m\u001b[0m\n\u001b[0;32m----> 1\u001b[0;31m \u001b[0mmask\u001b[0m \u001b[0;34m=\u001b[0m \u001b[0;34m(\u001b[0m\u001b[0mdf\u001b[0m\u001b[0;34m[\u001b[0m\u001b[0;34m'publishedAt'\u001b[0m\u001b[0;34m]\u001b[0m \u001b[0;34m>=\u001b[0m \u001b[0mtest\u001b[0m\u001b[0;34m[\u001b[0m\u001b[0;34m'source'\u001b[0m\u001b[0;34m]\u001b[0m\u001b[0;34m.\u001b[0m\u001b[0margmax\u001b[0m\u001b[0;34m(\u001b[0m\u001b[0;34m)\u001b[0m\u001b[0;34m)\u001b[0m \u001b[0;34m&\u001b[0m \u001b[0;34m(\u001b[0m\u001b[0mdf\u001b[0m\u001b[0;34m[\u001b[0m\u001b[0;34m'publishedAt'\u001b[0m\u001b[0;34m]\u001b[0m \u001b[0;34m<\u001b[0m \u001b[0mtest\u001b[0m\u001b[0;34m[\u001b[0m\u001b[0;34m'source'\u001b[0m\u001b[0;34m]\u001b[0m\u001b[0;34m.\u001b[0m\u001b[0margmax\u001b[0m\u001b[0;34m(\u001b[0m\u001b[0;34m)\u001b[0m \u001b[0;34m+\u001b[0m \u001b[0mtimedelta\u001b[0m\u001b[0;34m(\u001b[0m\u001b[0mdays\u001b[0m \u001b[0;34m=\u001b[0m \u001b[0;36m1\u001b[0m\u001b[0;34m)\u001b[0m\u001b[0;34m)\u001b[0m\u001b[0;34m\u001b[0m\u001b[0;34m\u001b[0m\u001b[0m\n\u001b[0m\u001b[1;32m      2\u001b[0m \u001b[0mpd\u001b[0m\u001b[0;34m.\u001b[0m\u001b[0mset_option\u001b[0m\u001b[0;34m(\u001b[0m\u001b[0;34m'display.max_colwidth'\u001b[0m\u001b[0;34m,\u001b[0m \u001b[0;36m2000\u001b[0m\u001b[0;34m)\u001b[0m\u001b[0;34m\u001b[0m\u001b[0;34m\u001b[0m\u001b[0m\n\u001b[1;32m      3\u001b[0m \u001b[0mdf\u001b[0m\u001b[0;34m[\u001b[0m\u001b[0;34m'source'\u001b[0m\u001b[0;34m]\u001b[0m \u001b[0;34m=\u001b[0m \u001b[0mdf\u001b[0m\u001b[0;34m[\u001b[0m\u001b[0;34m'source'\u001b[0m\u001b[0;34m]\u001b[0m\u001b[0;34m.\u001b[0m\u001b[0mapply\u001b[0m\u001b[0;34m(\u001b[0m\u001b[0;32mlambda\u001b[0m \u001b[0mr\u001b[0m \u001b[0;34m:\u001b[0m \u001b[0mr\u001b[0m\u001b[0;34m[\u001b[0m\u001b[0;34m'name'\u001b[0m\u001b[0;34m]\u001b[0m\u001b[0;34m)\u001b[0m\u001b[0;34m\u001b[0m\u001b[0;34m\u001b[0m\u001b[0m\n\u001b[1;32m      4\u001b[0m \u001b[0mdf\u001b[0m\u001b[0;34m[\u001b[0m\u001b[0mmask\u001b[0m\u001b[0;34m]\u001b[0m\u001b[0;34m.\u001b[0m\u001b[0mdrop\u001b[0m\u001b[0;34m(\u001b[0m\u001b[0mcolumns\u001b[0m\u001b[0;34m=\u001b[0m\u001b[0;34m[\u001b[0m\u001b[0;34m'author'\u001b[0m\u001b[0;34m,\u001b[0m\u001b[0;34m'urlToImage'\u001b[0m\u001b[0;34m,\u001b[0m\u001b[0;34m'content'\u001b[0m\u001b[0;34m]\u001b[0m\u001b[0;34m)\u001b[0m\u001b[0;34m\u001b[0m\u001b[0;34m\u001b[0m\u001b[0m\n",
      "\u001b[0;32m~/Code/env/lib/python3.7/site-packages/pandas/core/ops/common.py\u001b[0m in \u001b[0;36mnew_method\u001b[0;34m(self, other)\u001b[0m\n\u001b[1;32m     62\u001b[0m         \u001b[0mother\u001b[0m \u001b[0;34m=\u001b[0m \u001b[0mitem_from_zerodim\u001b[0m\u001b[0;34m(\u001b[0m\u001b[0mother\u001b[0m\u001b[0;34m)\u001b[0m\u001b[0;34m\u001b[0m\u001b[0;34m\u001b[0m\u001b[0m\n\u001b[1;32m     63\u001b[0m \u001b[0;34m\u001b[0m\u001b[0m\n\u001b[0;32m---> 64\u001b[0;31m         \u001b[0;32mreturn\u001b[0m \u001b[0mmethod\u001b[0m\u001b[0;34m(\u001b[0m\u001b[0mself\u001b[0m\u001b[0;34m,\u001b[0m \u001b[0mother\u001b[0m\u001b[0;34m)\u001b[0m\u001b[0;34m\u001b[0m\u001b[0;34m\u001b[0m\u001b[0m\n\u001b[0m\u001b[1;32m     65\u001b[0m \u001b[0;34m\u001b[0m\u001b[0m\n\u001b[1;32m     66\u001b[0m     \u001b[0;32mreturn\u001b[0m \u001b[0mnew_method\u001b[0m\u001b[0;34m\u001b[0m\u001b[0;34m\u001b[0m\u001b[0m\n",
      "\u001b[0;32m~/Code/env/lib/python3.7/site-packages/pandas/core/ops/__init__.py\u001b[0m in \u001b[0;36mwrapper\u001b[0;34m(self, other)\u001b[0m\n\u001b[1;32m    527\u001b[0m         \u001b[0mrvalues\u001b[0m \u001b[0;34m=\u001b[0m \u001b[0mextract_array\u001b[0m\u001b[0;34m(\u001b[0m\u001b[0mother\u001b[0m\u001b[0;34m,\u001b[0m \u001b[0mextract_numpy\u001b[0m\u001b[0;34m=\u001b[0m\u001b[0;32mTrue\u001b[0m\u001b[0;34m)\u001b[0m\u001b[0;34m\u001b[0m\u001b[0;34m\u001b[0m\u001b[0m\n\u001b[1;32m    528\u001b[0m \u001b[0;34m\u001b[0m\u001b[0m\n\u001b[0;32m--> 529\u001b[0;31m         \u001b[0mres_values\u001b[0m \u001b[0;34m=\u001b[0m \u001b[0mcomparison_op\u001b[0m\u001b[0;34m(\u001b[0m\u001b[0mlvalues\u001b[0m\u001b[0;34m,\u001b[0m \u001b[0mrvalues\u001b[0m\u001b[0;34m,\u001b[0m \u001b[0mop\u001b[0m\u001b[0;34m)\u001b[0m\u001b[0;34m\u001b[0m\u001b[0;34m\u001b[0m\u001b[0m\n\u001b[0m\u001b[1;32m    530\u001b[0m \u001b[0;34m\u001b[0m\u001b[0m\n\u001b[1;32m    531\u001b[0m         \u001b[0;32mreturn\u001b[0m \u001b[0m_construct_result\u001b[0m\u001b[0;34m(\u001b[0m\u001b[0mself\u001b[0m\u001b[0;34m,\u001b[0m \u001b[0mres_values\u001b[0m\u001b[0;34m,\u001b[0m \u001b[0mindex\u001b[0m\u001b[0;34m=\u001b[0m\u001b[0mself\u001b[0m\u001b[0;34m.\u001b[0m\u001b[0mindex\u001b[0m\u001b[0;34m,\u001b[0m \u001b[0mname\u001b[0m\u001b[0;34m=\u001b[0m\u001b[0mres_name\u001b[0m\u001b[0;34m)\u001b[0m\u001b[0;34m\u001b[0m\u001b[0;34m\u001b[0m\u001b[0m\n",
      "\u001b[0;32m~/Code/env/lib/python3.7/site-packages/pandas/core/ops/array_ops.py\u001b[0m in \u001b[0;36mcomparison_op\u001b[0;34m(left, right, op)\u001b[0m\n\u001b[1;32m    235\u001b[0m \u001b[0;34m\u001b[0m\u001b[0m\n\u001b[1;32m    236\u001b[0m     \u001b[0;32mif\u001b[0m \u001b[0mshould_extension_dispatch\u001b[0m\u001b[0;34m(\u001b[0m\u001b[0mlvalues\u001b[0m\u001b[0;34m,\u001b[0m \u001b[0mrvalues\u001b[0m\u001b[0;34m)\u001b[0m\u001b[0;34m:\u001b[0m\u001b[0;34m\u001b[0m\u001b[0;34m\u001b[0m\u001b[0m\n\u001b[0;32m--> 237\u001b[0;31m         \u001b[0mres_values\u001b[0m \u001b[0;34m=\u001b[0m \u001b[0mdispatch_to_extension_op\u001b[0m\u001b[0;34m(\u001b[0m\u001b[0mop\u001b[0m\u001b[0;34m,\u001b[0m \u001b[0mlvalues\u001b[0m\u001b[0;34m,\u001b[0m \u001b[0mrvalues\u001b[0m\u001b[0;34m)\u001b[0m\u001b[0;34m\u001b[0m\u001b[0;34m\u001b[0m\u001b[0m\n\u001b[0m\u001b[1;32m    238\u001b[0m \u001b[0;34m\u001b[0m\u001b[0m\n\u001b[1;32m    239\u001b[0m     \u001b[0;32melif\u001b[0m \u001b[0mis_scalar\u001b[0m\u001b[0;34m(\u001b[0m\u001b[0mrvalues\u001b[0m\u001b[0;34m)\u001b[0m \u001b[0;32mand\u001b[0m \u001b[0misna\u001b[0m\u001b[0;34m(\u001b[0m\u001b[0mrvalues\u001b[0m\u001b[0;34m)\u001b[0m\u001b[0;34m:\u001b[0m\u001b[0;34m\u001b[0m\u001b[0;34m\u001b[0m\u001b[0m\n",
      "\u001b[0;32m~/Code/env/lib/python3.7/site-packages/pandas/core/ops/dispatch.py\u001b[0m in \u001b[0;36mdispatch_to_extension_op\u001b[0;34m(op, left, right)\u001b[0m\n\u001b[1;32m    123\u001b[0m     \u001b[0;31m# The op calls will raise TypeError if the op is not defined\u001b[0m\u001b[0;34m\u001b[0m\u001b[0;34m\u001b[0m\u001b[0;34m\u001b[0m\u001b[0m\n\u001b[1;32m    124\u001b[0m     \u001b[0;31m# on the ExtensionArray\u001b[0m\u001b[0;34m\u001b[0m\u001b[0;34m\u001b[0m\u001b[0;34m\u001b[0m\u001b[0m\n\u001b[0;32m--> 125\u001b[0;31m     \u001b[0mres_values\u001b[0m \u001b[0;34m=\u001b[0m \u001b[0mop\u001b[0m\u001b[0;34m(\u001b[0m\u001b[0mleft\u001b[0m\u001b[0;34m,\u001b[0m \u001b[0mright\u001b[0m\u001b[0;34m)\u001b[0m\u001b[0;34m\u001b[0m\u001b[0;34m\u001b[0m\u001b[0m\n\u001b[0m\u001b[1;32m    126\u001b[0m     \u001b[0;32mreturn\u001b[0m \u001b[0mres_values\u001b[0m\u001b[0;34m\u001b[0m\u001b[0;34m\u001b[0m\u001b[0m\n",
      "\u001b[0;32m~/Code/env/lib/python3.7/site-packages/pandas/core/ops/common.py\u001b[0m in \u001b[0;36mnew_method\u001b[0;34m(self, other)\u001b[0m\n\u001b[1;32m     62\u001b[0m         \u001b[0mother\u001b[0m \u001b[0;34m=\u001b[0m \u001b[0mitem_from_zerodim\u001b[0m\u001b[0;34m(\u001b[0m\u001b[0mother\u001b[0m\u001b[0;34m)\u001b[0m\u001b[0;34m\u001b[0m\u001b[0;34m\u001b[0m\u001b[0m\n\u001b[1;32m     63\u001b[0m \u001b[0;34m\u001b[0m\u001b[0m\n\u001b[0;32m---> 64\u001b[0;31m         \u001b[0;32mreturn\u001b[0m \u001b[0mmethod\u001b[0m\u001b[0;34m(\u001b[0m\u001b[0mself\u001b[0m\u001b[0;34m,\u001b[0m \u001b[0mother\u001b[0m\u001b[0;34m)\u001b[0m\u001b[0;34m\u001b[0m\u001b[0;34m\u001b[0m\u001b[0m\n\u001b[0m\u001b[1;32m     65\u001b[0m \u001b[0;34m\u001b[0m\u001b[0m\n\u001b[1;32m     66\u001b[0m     \u001b[0;32mreturn\u001b[0m \u001b[0mnew_method\u001b[0m\u001b[0;34m\u001b[0m\u001b[0;34m\u001b[0m\u001b[0m\n",
      "\u001b[0;32m~/Code/env/lib/python3.7/site-packages/pandas/core/arrays/datetimelike.py\u001b[0m in \u001b[0;36mwrapper\u001b[0;34m(self, other)\u001b[0m\n\u001b[1;32m     81\u001b[0m \u001b[0;34m\u001b[0m\u001b[0m\n\u001b[1;32m     82\u001b[0m         \u001b[0;32melif\u001b[0m \u001b[0;32mnot\u001b[0m \u001b[0mis_list_like\u001b[0m\u001b[0;34m(\u001b[0m\u001b[0mother\u001b[0m\u001b[0;34m)\u001b[0m\u001b[0;34m:\u001b[0m\u001b[0;34m\u001b[0m\u001b[0;34m\u001b[0m\u001b[0m\n\u001b[0;32m---> 83\u001b[0;31m             \u001b[0;32mreturn\u001b[0m \u001b[0minvalid_comparison\u001b[0m\u001b[0;34m(\u001b[0m\u001b[0mself\u001b[0m\u001b[0;34m,\u001b[0m \u001b[0mother\u001b[0m\u001b[0;34m,\u001b[0m \u001b[0mop\u001b[0m\u001b[0;34m)\u001b[0m\u001b[0;34m\u001b[0m\u001b[0;34m\u001b[0m\u001b[0m\n\u001b[0m\u001b[1;32m     84\u001b[0m \u001b[0;34m\u001b[0m\u001b[0m\n\u001b[1;32m     85\u001b[0m         \u001b[0;32melif\u001b[0m \u001b[0mlen\u001b[0m\u001b[0;34m(\u001b[0m\u001b[0mother\u001b[0m\u001b[0;34m)\u001b[0m \u001b[0;34m!=\u001b[0m \u001b[0mlen\u001b[0m\u001b[0;34m(\u001b[0m\u001b[0mself\u001b[0m\u001b[0;34m)\u001b[0m\u001b[0;34m:\u001b[0m\u001b[0;34m\u001b[0m\u001b[0;34m\u001b[0m\u001b[0m\n",
      "\u001b[0;32m~/Code/env/lib/python3.7/site-packages/pandas/core/ops/invalid.py\u001b[0m in \u001b[0;36minvalid_comparison\u001b[0;34m(left, right, op)\u001b[0m\n\u001b[1;32m     32\u001b[0m     \u001b[0;32melse\u001b[0m\u001b[0;34m:\u001b[0m\u001b[0;34m\u001b[0m\u001b[0;34m\u001b[0m\u001b[0m\n\u001b[1;32m     33\u001b[0m         \u001b[0mtyp\u001b[0m \u001b[0;34m=\u001b[0m \u001b[0mtype\u001b[0m\u001b[0;34m(\u001b[0m\u001b[0mright\u001b[0m\u001b[0;34m)\u001b[0m\u001b[0;34m.\u001b[0m\u001b[0m__name__\u001b[0m\u001b[0;34m\u001b[0m\u001b[0;34m\u001b[0m\u001b[0m\n\u001b[0;32m---> 34\u001b[0;31m         \u001b[0;32mraise\u001b[0m \u001b[0mTypeError\u001b[0m\u001b[0;34m(\u001b[0m\u001b[0;34mf\"Invalid comparison between dtype={left.dtype} and {typ}\"\u001b[0m\u001b[0;34m)\u001b[0m\u001b[0;34m\u001b[0m\u001b[0;34m\u001b[0m\u001b[0m\n\u001b[0m\u001b[1;32m     35\u001b[0m     \u001b[0;32mreturn\u001b[0m \u001b[0mres_values\u001b[0m\u001b[0;34m\u001b[0m\u001b[0;34m\u001b[0m\u001b[0m\n\u001b[1;32m     36\u001b[0m \u001b[0;34m\u001b[0m\u001b[0m\n",
      "\u001b[0;31mTypeError\u001b[0m: Invalid comparison between dtype=datetime64[ns, UTC] and int64"
     ]
    }
   ],
   "source": [
    "mask = (df['publishedAt'] >= test['source'].argmax()) & (df['publishedAt'] < test['source'].argmax() + timedelta(days = 1))\n",
    "pd.set_option('display.max_colwidth', 2000)\n",
    "df['source'] = df['source'].apply(lambda r : r['name'])\n",
    "df[mask].drop(columns=['author','urlToImage','content'])"
   ]
  },
  {
   "cell_type": "code",
   "execution_count": null,
   "metadata": {},
   "outputs": [],
   "source": []
  }
 ],
 "metadata": {
  "kernelspec": {
   "display_name": "Python 3",
   "language": "python",
   "name": "python3"
  },
  "language_info": {
   "codemirror_mode": {
    "name": "ipython",
    "version": 3
   },
   "file_extension": ".py",
   "mimetype": "text/x-python",
   "name": "python",
   "nbconvert_exporter": "python",
   "pygments_lexer": "ipython3",
   "version": "3.7.4"
  }
 },
 "nbformat": 4,
 "nbformat_minor": 4
}
