{
 "cells": [
  {
   "cell_type": "code",
   "execution_count": 124,
   "metadata": {
    "scrolled": true
   },
   "outputs": [],
   "source": [
    "import requests\n",
    "import bs4 as bs\n",
    "import pandas as pd\n",
    "import time\n",
    "AllRawDf = []\n",
    "AllRawDf = pd.DataFrame(AllRawDf)\n",
    "searchqueryDic = {'boarders':['travel+restrictions','closes+boarders','Travel+ban'],'lockdown': ['lockdown+imposes','quarantin+impose','shutdown+shops','shut+down'],'schools' :['schools+shut','schools+closed'],'restaurants':['bars+restaurants','closed+bars+restaurants'],'groups':['groups+banned','gathering+people','people+restrictions','groups+restrictions'],'HomeOffice':['home+office'],'Business':['Business+close','Business+shut+down']}\n",
    "country='germany'\n",
    "for key, values in searchqueryDic.items():\n",
    "    for value in values:\n",
    "        \n",
    "        searchquery = country+'+'+value\n",
    "        r = requests.get('http://searx.pofilo.fr',params=[('q', searchquery),('format','json'),('engines','startpage'),('engines','duckduckgo'),('engine','reddit')])\n",
    "        time.sleep(0.3)\n",
    "        result = r.json()\n",
    "        df = pd.DataFrame(result.get('results'))\n",
    "        df['searchvalue'] = value\n",
    "        df['searchquery'] = searchquery\n",
    "        df['ResponseCategory'] = key\n",
    "        df['country'] = country\n",
    "        df = df.drop( columns =['category','engines','parsed_url'], errors='ignore')\n",
    "        frames = [ AllRawDf, df]\n",
    "        if AllRawDf.empty == True:\n",
    "            AllRawDf = df\n",
    "\n",
    "        else:\n",
    "            AllRawDf = pd.concat(frames)"
   ]
  },
  {
   "cell_type": "code",
   "execution_count": 125,
   "metadata": {},
   "outputs": [],
   "source": [
    "import datetime\n",
    "import time     \n",
    "from dateutil.relativedelta import relativedelta\n",
    "def get_past_date(str_days_ago):\n",
    "    TODAY = datetime.date.today()\n",
    "    splitted = str_days_ago.split()\n",
    "    if len(splitted) == 0:\n",
    "        return str_days_ago\n",
    "    elif splitted[0].isdigit() == False:\n",
    "        return str_days_ago\n",
    "    elif len(splitted) == 1 and splitted[0].lower() == 'today':\n",
    "        return str(TODAY.isoformat())\n",
    "    elif len(splitted) == 1 and splitted[0].lower() == 'yesterday':\n",
    "        date = TODAY - relativedelta(days=1)\n",
    "        return str(date.isoformat())\n",
    "    elif splitted[1].lower() in ['hour', 'hours', 'hr', 'hrs', 'h']:\n",
    "        date = datetime.datetime.now() - relativedelta(hours=int(splitted[0]))\n",
    "        return str(date.date().isoformat())\n",
    "    elif splitted[1].lower() in ['day', 'days', 'd']:\n",
    "        date = TODAY - relativedelta(days=int(splitted[0]))\n",
    "        return str(date.isoformat())\n",
    "    elif splitted[1].lower() in ['wk', 'wks', 'week', 'weeks', 'w']:\n",
    "        date = TODAY - relativedelta(weeks=int(splitted[0]))\n",
    "        return str(date.isoformat())\n",
    "    elif splitted[1].lower() in ['mon', 'mons', 'month', 'months', 'm']:\n",
    "        date = TODAY - relativedelta(months=int(splitted[0]))\n",
    "        return str(date.isoformat())\n",
    "    elif splitted[1].lower() in ['yrs', 'yr', 'years', 'year', 'y']:\n",
    "        date = TODAY - relativedelta(years=int(splitted[0]))\n",
    "        return str(date.isoformat())\n",
    "    else:\n",
    "        try:\n",
    "            conv=time.strptime(str_days_ago,\"%d %b %Y\")\n",
    "            return time.strftime(\"%Y-%m-%d\",conv)\n",
    "        except:\n",
    "            return str_days_ago"
   ]
  },
  {
   "cell_type": "code",
   "execution_count": 127,
   "metadata": {},
   "outputs": [],
   "source": [
    "AllRawDf['publishedAt'] = pd.to_datetime(AllRawDf['pubdate'])\n",
    "contentDate = []\n",
    "for el in AllRawDf['content']:\n",
    "    el = el.replace(' ...','')\n",
    "    contentDate.append(get_past_date(el ))\n",
    "AllRawDf['contentDate'] = contentDate\n",
    "AllRawDf.to_csv('CoronaGermanytest.csv')"
   ]
  },
  {
   "cell_type": "code",
   "execution_count": 122,
   "metadata": {},
   "outputs": [
    {
     "data": {
      "text/plain": [
       "Index(['content', 'engine', 'positions', 'pretty_url', 'pubdate',\n",
       "       'publishedDate', 'score', 'title', 'url', 'searchvalue', 'searchquery',\n",
       "       'country', 'publishedAt', 'contentDate'],\n",
       "      dtype='object')"
      ]
     },
     "execution_count": 122,
     "metadata": {},
     "output_type": "execute_result"
    }
   ],
   "source": [
    "AllRawDf.columns"
   ]
  },
  {
   "cell_type": "code",
   "execution_count": 123,
   "metadata": {},
   "outputs": [
    {
     "name": "stdout",
     "output_type": "stream",
     "text": [
      "groups\n"
     ]
    }
   ],
   "source": [
    "print(key)"
   ]
  },
  {
   "cell_type": "code",
   "execution_count": 117,
   "metadata": {
    "scrolled": false
   },
   "outputs": [
    {
     "data": {
      "application/vnd.jupyter.widget-view+json": {
       "model_id": "1b62d0f05cbf4157bf9284edc779c8dc",
       "version_major": 2,
       "version_minor": 0
      },
      "text/plain": [
       "QgridWidget(grid_options={'highlightSelectedCell': False, 'filterable': True, 'explicitInitialization': True, …"
      ]
     },
     "metadata": {},
     "output_type": "display_data"
    }
   ],
   "source": [
    "import qgrid\n",
    "qgrid.show_grid(AllRawDf)"
   ]
  },
  {
   "cell_type": "code",
   "execution_count": 118,
   "metadata": {},
   "outputs": [],
   "source": [
    "AllRawDf.to_csv('CoronaGermanytest.csv')"
   ]
  },
  {
   "cell_type": "code",
   "execution_count": 43,
   "metadata": {},
   "outputs": [
    {
     "name": "stdout",
     "output_type": "stream",
     "text": [
      "boarders -> ['travel+restrictions', 'closes+boarders', 'Travel+ban']\n",
      "schools -> ['schools+shut', 'schools+closed']\n",
      "restaurants -> ['bars+restaurants', 'closed+bars+restaurants']\n",
      "groups -> ['groups+banned', 'gathering+people', 'people+restrictions', 'groups+restrictions']\n",
      "Business -> ['Business+close', 'Business+shut+down']\n",
      "lockdown -> ['lockdown+imposes', 'quarantin+impose', 'shutdown+shops', 'shut+down']\n",
      "HomeOffice -> home+office\n"
     ]
    }
   ],
   "source": [
    "for key, value in searchqueryDic.items():\n",
    "    print(key, '->', value)"
   ]
  }
 ],
 "metadata": {
  "kernelspec": {
   "display_name": "Python [conda env:tensorflow]",
   "language": "python",
   "name": "conda-env-tensorflow-py"
  },
  "language_info": {
   "codemirror_mode": {
    "name": "ipython",
    "version": 3
   },
   "file_extension": ".py",
   "mimetype": "text/x-python",
   "name": "python",
   "nbconvert_exporter": "python",
   "pygments_lexer": "ipython3",
   "version": "3.5.5"
  }
 },
 "nbformat": 4,
 "nbformat_minor": 2
}
